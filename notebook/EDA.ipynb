{
 "cells": [
  {
   "cell_type": "code",
   "execution_count": 1,
   "metadata": {
    "editable": true,
    "slideshow": {
     "slide_type": ""
    },
    "tags": []
   },
   "outputs": [],
   "source": [
    "from sklearn.metrics import classification_report\n",
    "import pandas as pd\n",
    "import requests\n",
    "import json\n",
    "from tqdm import tqdm\n",
    "import numpy as np\n",
    "import time\n",
    "import math\n",
    "tqdm.pandas()"
   ]
  },
  {
   "cell_type": "code",
   "execution_count": 2,
   "metadata": {},
   "outputs": [],
   "source": [
    "def json_read(path: str):\n",
    "    with open(path, encoding=\"utf-8\") as fh:\n",
    "        data = json.load(fh)\n",
    "    return data"
   ]
  },
  {
   "cell_type": "code",
   "execution_count": 3,
   "metadata": {
    "editable": true,
    "slideshow": {
     "slide_type": ""
    },
    "tags": []
   },
   "outputs": [],
   "source": [
    "labels = pd.read_csv(\"../csv/20230914_091933.csv\")\n",
    "filenames = labels[\"File Name\"].unique().tolist()"
   ]
  },
  {
   "cell_type": "code",
   "execution_count": 5,
   "metadata": {},
   "outputs": [
    {
     "data": {
      "text/html": [
       "<div>\n",
       "<style scoped>\n",
       "    .dataframe tbody tr th:only-of-type {\n",
       "        vertical-align: middle;\n",
       "    }\n",
       "\n",
       "    .dataframe tbody tr th {\n",
       "        vertical-align: top;\n",
       "    }\n",
       "\n",
       "    .dataframe thead th {\n",
       "        text-align: right;\n",
       "    }\n",
       "</style>\n",
       "<table border=\"1\" class=\"dataframe\">\n",
       "  <thead>\n",
       "    <tr style=\"text-align: right;\">\n",
       "      <th></th>\n",
       "      <th>fileName</th>\n",
       "      <th>content</th>\n",
       "      <th>metadata</th>\n",
       "    </tr>\n",
       "  </thead>\n",
       "  <tbody>\n",
       "    <tr>\n",
       "      <th>0</th>\n",
       "      <td>1691368375053_3752_810347419931_529288950.mp3</td>\n",
       "      <td>[{'channel': 2, 'start': 3.469999999999999, 'e...</td>\n",
       "      <td>{'public': {'parent': 'metadata_20230807_16915...</td>\n",
       "    </tr>\n",
       "    <tr>\n",
       "      <th>1</th>\n",
       "      <td>1691368375053_3752_810347419931_529288950.mp3</td>\n",
       "      <td>[{'channel': 2, 'start': 3.469999999999999, 'e...</td>\n",
       "      <td>{'public': {'parent': 'metadata_20230807_16915...</td>\n",
       "    </tr>\n",
       "    <tr>\n",
       "      <th>2</th>\n",
       "      <td>1691368375053_3752_810347419931_529288950.mp3</td>\n",
       "      <td>[{'channel': 2, 'start': 3.469999999999999, 'e...</td>\n",
       "      <td>{'public': {'parent': 'metadata_20230807_16915...</td>\n",
       "    </tr>\n",
       "    <tr>\n",
       "      <th>3</th>\n",
       "      <td>1691368375053_3752_810347419931_529288950.mp3</td>\n",
       "      <td>[{'channel': 2, 'start': 3.469999999999999, 'e...</td>\n",
       "      <td>{'public': {'parent': 'metadata_20230807_16915...</td>\n",
       "    </tr>\n",
       "    <tr>\n",
       "      <th>4</th>\n",
       "      <td>1691368375053_3752_810347419931_529288950.mp3</td>\n",
       "      <td>[{'channel': 2, 'start': 3.469999999999999, 'e...</td>\n",
       "      <td>{'public': {'parent': 'metadata_20230807_16915...</td>\n",
       "    </tr>\n",
       "    <tr>\n",
       "      <th>...</th>\n",
       "      <td>...</td>\n",
       "      <td>...</td>\n",
       "      <td>...</td>\n",
       "    </tr>\n",
       "    <tr>\n",
       "      <th>6727</th>\n",
       "      <td>1694248856031_3736_810357789576_539270001.mp3</td>\n",
       "      <td>[{'agent': True, 'channel': 1, 'start': 1.6800...</td>\n",
       "      <td>{'public': {'call_domain': 'M3', 'contract_id'...</td>\n",
       "    </tr>\n",
       "    <tr>\n",
       "      <th>6728</th>\n",
       "      <td>1694248856031_3736_810357789576_539270001.mp3</td>\n",
       "      <td>[{'agent': True, 'channel': 1, 'start': 1.6800...</td>\n",
       "      <td>{'public': {'call_domain': 'M3', 'contract_id'...</td>\n",
       "    </tr>\n",
       "    <tr>\n",
       "      <th>6729</th>\n",
       "      <td>1694248856031_3736_810357789576_539270001.mp3</td>\n",
       "      <td>[{'agent': True, 'channel': 1, 'start': 1.6800...</td>\n",
       "      <td>{'public': {'call_domain': 'M3', 'contract_id'...</td>\n",
       "    </tr>\n",
       "    <tr>\n",
       "      <th>6730</th>\n",
       "      <td>1694248856031_3736_810357789576_539270001.mp3</td>\n",
       "      <td>[{'agent': True, 'channel': 1, 'start': 1.6800...</td>\n",
       "      <td>{'public': {'call_domain': 'M3', 'contract_id'...</td>\n",
       "    </tr>\n",
       "    <tr>\n",
       "      <th>6731</th>\n",
       "      <td>1694248856031_3736_810357789576_539270001.mp3</td>\n",
       "      <td>[{'agent': True, 'channel': 1, 'start': 1.6800...</td>\n",
       "      <td>{'public': {'call_domain': 'M3', 'contract_id'...</td>\n",
       "    </tr>\n",
       "  </tbody>\n",
       "</table>\n",
       "<p>6732 rows × 3 columns</p>\n",
       "</div>"
      ],
      "text/plain": [
       "                                           fileName  \\\n",
       "0     1691368375053_3752_810347419931_529288950.mp3   \n",
       "1     1691368375053_3752_810347419931_529288950.mp3   \n",
       "2     1691368375053_3752_810347419931_529288950.mp3   \n",
       "3     1691368375053_3752_810347419931_529288950.mp3   \n",
       "4     1691368375053_3752_810347419931_529288950.mp3   \n",
       "...                                             ...   \n",
       "6727  1694248856031_3736_810357789576_539270001.mp3   \n",
       "6728  1694248856031_3736_810357789576_539270001.mp3   \n",
       "6729  1694248856031_3736_810357789576_539270001.mp3   \n",
       "6730  1694248856031_3736_810357789576_539270001.mp3   \n",
       "6731  1694248856031_3736_810357789576_539270001.mp3   \n",
       "\n",
       "                                                content  \\\n",
       "0     [{'channel': 2, 'start': 3.469999999999999, 'e...   \n",
       "1     [{'channel': 2, 'start': 3.469999999999999, 'e...   \n",
       "2     [{'channel': 2, 'start': 3.469999999999999, 'e...   \n",
       "3     [{'channel': 2, 'start': 3.469999999999999, 'e...   \n",
       "4     [{'channel': 2, 'start': 3.469999999999999, 'e...   \n",
       "...                                                 ...   \n",
       "6727  [{'agent': True, 'channel': 1, 'start': 1.6800...   \n",
       "6728  [{'agent': True, 'channel': 1, 'start': 1.6800...   \n",
       "6729  [{'agent': True, 'channel': 1, 'start': 1.6800...   \n",
       "6730  [{'agent': True, 'channel': 1, 'start': 1.6800...   \n",
       "6731  [{'agent': True, 'channel': 1, 'start': 1.6800...   \n",
       "\n",
       "                                               metadata  \n",
       "0     {'public': {'parent': 'metadata_20230807_16915...  \n",
       "1     {'public': {'parent': 'metadata_20230807_16915...  \n",
       "2     {'public': {'parent': 'metadata_20230807_16915...  \n",
       "3     {'public': {'parent': 'metadata_20230807_16915...  \n",
       "4     {'public': {'parent': 'metadata_20230807_16915...  \n",
       "...                                                 ...  \n",
       "6727  {'public': {'call_domain': 'M3', 'contract_id'...  \n",
       "6728  {'public': {'call_domain': 'M3', 'contract_id'...  \n",
       "6729  {'public': {'call_domain': 'M3', 'contract_id'...  \n",
       "6730  {'public': {'call_domain': 'M3', 'contract_id'...  \n",
       "6731  {'public': {'call_domain': 'M3', 'contract_id'...  \n",
       "\n",
       "[6732 rows x 3 columns]"
      ]
     },
     "execution_count": 5,
     "metadata": {},
     "output_type": "execute_result"
    }
   ],
   "source": [
    "call_data = pd.read_json(\"../json/data/dataM3_373call.json\")\n",
    "call_data = call_data[call_data[\"fileName\"].isin(filenames)]\n",
    "# call_data.sample()\n",
    "call_data"
   ]
  },
  {
   "cell_type": "code",
   "execution_count": 6,
   "metadata": {},
   "outputs": [],
   "source": [
    "m3_project_info = json_read(\"../json/project_info/m3_project_info_dev.json\")[\"project_info\"]\n",
    "criteria_name = [\"willpaySummary\", \"nopaySummary\", \"paidSummary\"]"
   ]
  },
  {
   "cell_type": "code",
   "execution_count": 20,
   "metadata": {},
   "outputs": [],
   "source": [
    "def test_criteria(project_info, criteria_name, transcript, metadata, agent_channel, file_name=\"test\"):\n",
    "    url = \"https://cqe-dev-nlp.fpt.ai/dme/predict/dialogue/test\"\n",
    "    payload = json.dumps({\n",
    "      \"project_info\": project_info,\n",
    "      \"transcript\": transcript,\n",
    "      \"metadata\": metadata,\n",
    "      \"criteria\": criteria_name,\n",
    "      \"fileName\": file_name,\n",
    "      \"agentChannel\": agent_channel\n",
    "    })\n",
    "    headers = {\n",
    "      'Content-Type': 'application/json'\n",
    "    }\n",
    "    response = requests.request(\"POST\", url, headers=headers, data=payload)\n",
    "    return response.json()\n",
    "\n",
    "def calculate_criteira(rec, wc_project_info, criteria_name):\n",
    "    while True:\n",
    "        try:\n",
    "            result = test_criteria(wc_project_info, criteria_name,\n",
    "                           rec[\"content\"], rec[\"metadata\"],\n",
    "                           agent_channel=1, file_name=rec[\"fileName\"])\n",
    "            for criteria in criteria_name:\n",
    "                rec[criteria] = result[criteria][\"decision\"]\n",
    "            break\n",
    "        except:\n",
    "            print(result.keys())\n",
    "            print(rec[\"name\"])\n",
    "            time.sleep(10)\n",
    "    return rec"
   ]
  },
  {
   "cell_type": "code",
   "execution_count": 21,
   "metadata": {},
   "outputs": [],
   "source": [
    "sample = call_data.sample().to_dict(\"records\")[0]\n",
    "result = test_criteria(m3_project_info, criteria_name, sample[\"content\"], sample[\"metadata\"], agent_channel=1, file_name=sample[\"fileName\"])\n",
    "# sample"
   ]
  },
  {
   "cell_type": "code",
   "execution_count": 22,
   "metadata": {},
   "outputs": [
    {
     "name": "stderr",
     "output_type": "stream",
     "text": [
      "  0%|          | 25/6732 [00:41<3:07:10,  1.67s/it]\n"
     ]
    },
    {
     "ename": "UnboundLocalError",
     "evalue": "cannot access local variable 'result' where it is not associated with a value",
     "output_type": "error",
     "traceback": [
      "\u001b[1;31m---------------------------------------------------------------------------\u001b[0m",
      "\u001b[1;31mKeyboardInterrupt\u001b[0m                         Traceback (most recent call last)",
      "\u001b[1;32mc:\\Users\\admin\\Enhance\\debug_hc\\notebook\\EDA.ipynb Cell 8\u001b[0m line \u001b[0;36m2\n\u001b[0;32m     <a href='vscode-notebook-cell:/c%3A/Users/admin/Enhance/debug_hc/notebook/EDA.ipynb#X10sZmlsZQ%3D%3D?line=18'>19</a>\u001b[0m \u001b[39mtry\u001b[39;00m:\n\u001b[1;32m---> <a href='vscode-notebook-cell:/c%3A/Users/admin/Enhance/debug_hc/notebook/EDA.ipynb#X10sZmlsZQ%3D%3D?line=19'>20</a>\u001b[0m     result \u001b[39m=\u001b[39m test_criteria(wc_project_info, criteria_name,\n\u001b[0;32m     <a href='vscode-notebook-cell:/c%3A/Users/admin/Enhance/debug_hc/notebook/EDA.ipynb#X10sZmlsZQ%3D%3D?line=20'>21</a>\u001b[0m                    rec[\u001b[39m\"\u001b[39;49m\u001b[39mcontent\u001b[39;49m\u001b[39m\"\u001b[39;49m], rec[\u001b[39m\"\u001b[39;49m\u001b[39mmetadata\u001b[39;49m\u001b[39m\"\u001b[39;49m],\n\u001b[0;32m     <a href='vscode-notebook-cell:/c%3A/Users/admin/Enhance/debug_hc/notebook/EDA.ipynb#X10sZmlsZQ%3D%3D?line=21'>22</a>\u001b[0m                    agent_channel\u001b[39m=\u001b[39;49m\u001b[39m1\u001b[39;49m, file_name\u001b[39m=\u001b[39;49mrec[\u001b[39m\"\u001b[39;49m\u001b[39mfileName\u001b[39;49m\u001b[39m\"\u001b[39;49m])\n\u001b[0;32m     <a href='vscode-notebook-cell:/c%3A/Users/admin/Enhance/debug_hc/notebook/EDA.ipynb#X10sZmlsZQ%3D%3D?line=22'>23</a>\u001b[0m     \u001b[39mfor\u001b[39;00m criteria \u001b[39min\u001b[39;00m criteria_name:\n",
      "\u001b[1;32mc:\\Users\\admin\\Enhance\\debug_hc\\notebook\\EDA.ipynb Cell 8\u001b[0m line \u001b[0;36m1\n\u001b[0;32m     <a href='vscode-notebook-cell:/c%3A/Users/admin/Enhance/debug_hc/notebook/EDA.ipynb#X10sZmlsZQ%3D%3D?line=10'>11</a>\u001b[0m headers \u001b[39m=\u001b[39m {\n\u001b[0;32m     <a href='vscode-notebook-cell:/c%3A/Users/admin/Enhance/debug_hc/notebook/EDA.ipynb#X10sZmlsZQ%3D%3D?line=11'>12</a>\u001b[0m   \u001b[39m'\u001b[39m\u001b[39mContent-Type\u001b[39m\u001b[39m'\u001b[39m: \u001b[39m'\u001b[39m\u001b[39mapplication/json\u001b[39m\u001b[39m'\u001b[39m\n\u001b[0;32m     <a href='vscode-notebook-cell:/c%3A/Users/admin/Enhance/debug_hc/notebook/EDA.ipynb#X10sZmlsZQ%3D%3D?line=12'>13</a>\u001b[0m }\n\u001b[1;32m---> <a href='vscode-notebook-cell:/c%3A/Users/admin/Enhance/debug_hc/notebook/EDA.ipynb#X10sZmlsZQ%3D%3D?line=13'>14</a>\u001b[0m response \u001b[39m=\u001b[39m requests\u001b[39m.\u001b[39;49mrequest(\u001b[39m\"\u001b[39;49m\u001b[39mPOST\u001b[39;49m\u001b[39m\"\u001b[39;49m, url, headers\u001b[39m=\u001b[39;49mheaders, data\u001b[39m=\u001b[39;49mpayload)\n\u001b[0;32m     <a href='vscode-notebook-cell:/c%3A/Users/admin/Enhance/debug_hc/notebook/EDA.ipynb#X10sZmlsZQ%3D%3D?line=14'>15</a>\u001b[0m \u001b[39mreturn\u001b[39;00m response\u001b[39m.\u001b[39mjson()\n",
      "File \u001b[1;32mc:\\Users\\admin\\anaconda3\\envs\\dungca4\\Lib\\site-packages\\requests\\api.py:59\u001b[0m, in \u001b[0;36mrequest\u001b[1;34m(method, url, **kwargs)\u001b[0m\n\u001b[0;32m     58\u001b[0m \u001b[39mwith\u001b[39;00m sessions\u001b[39m.\u001b[39mSession() \u001b[39mas\u001b[39;00m session:\n\u001b[1;32m---> 59\u001b[0m     \u001b[39mreturn\u001b[39;00m session\u001b[39m.\u001b[39;49mrequest(method\u001b[39m=\u001b[39;49mmethod, url\u001b[39m=\u001b[39;49murl, \u001b[39m*\u001b[39;49m\u001b[39m*\u001b[39;49mkwargs)\n",
      "File \u001b[1;32mc:\\Users\\admin\\anaconda3\\envs\\dungca4\\Lib\\site-packages\\requests\\sessions.py:589\u001b[0m, in \u001b[0;36mSession.request\u001b[1;34m(self, method, url, params, data, headers, cookies, files, auth, timeout, allow_redirects, proxies, hooks, stream, verify, cert, json)\u001b[0m\n\u001b[0;32m    588\u001b[0m send_kwargs\u001b[39m.\u001b[39mupdate(settings)\n\u001b[1;32m--> 589\u001b[0m resp \u001b[39m=\u001b[39m \u001b[39mself\u001b[39;49m\u001b[39m.\u001b[39;49msend(prep, \u001b[39m*\u001b[39;49m\u001b[39m*\u001b[39;49msend_kwargs)\n\u001b[0;32m    591\u001b[0m \u001b[39mreturn\u001b[39;00m resp\n",
      "File \u001b[1;32mc:\\Users\\admin\\anaconda3\\envs\\dungca4\\Lib\\site-packages\\requests\\sessions.py:703\u001b[0m, in \u001b[0;36mSession.send\u001b[1;34m(self, request, **kwargs)\u001b[0m\n\u001b[0;32m    702\u001b[0m \u001b[39m# Send the request\u001b[39;00m\n\u001b[1;32m--> 703\u001b[0m r \u001b[39m=\u001b[39m adapter\u001b[39m.\u001b[39;49msend(request, \u001b[39m*\u001b[39;49m\u001b[39m*\u001b[39;49mkwargs)\n\u001b[0;32m    705\u001b[0m \u001b[39m# Total elapsed time of the request (approximately)\u001b[39;00m\n",
      "File \u001b[1;32mc:\\Users\\admin\\anaconda3\\envs\\dungca4\\Lib\\site-packages\\requests\\adapters.py:486\u001b[0m, in \u001b[0;36mHTTPAdapter.send\u001b[1;34m(self, request, stream, timeout, verify, cert, proxies)\u001b[0m\n\u001b[0;32m    485\u001b[0m \u001b[39mtry\u001b[39;00m:\n\u001b[1;32m--> 486\u001b[0m     resp \u001b[39m=\u001b[39m conn\u001b[39m.\u001b[39;49murlopen(\n\u001b[0;32m    487\u001b[0m         method\u001b[39m=\u001b[39;49mrequest\u001b[39m.\u001b[39;49mmethod,\n\u001b[0;32m    488\u001b[0m         url\u001b[39m=\u001b[39;49murl,\n\u001b[0;32m    489\u001b[0m         body\u001b[39m=\u001b[39;49mrequest\u001b[39m.\u001b[39;49mbody,\n\u001b[0;32m    490\u001b[0m         headers\u001b[39m=\u001b[39;49mrequest\u001b[39m.\u001b[39;49mheaders,\n\u001b[0;32m    491\u001b[0m         redirect\u001b[39m=\u001b[39;49m\u001b[39mFalse\u001b[39;49;00m,\n\u001b[0;32m    492\u001b[0m         assert_same_host\u001b[39m=\u001b[39;49m\u001b[39mFalse\u001b[39;49;00m,\n\u001b[0;32m    493\u001b[0m         preload_content\u001b[39m=\u001b[39;49m\u001b[39mFalse\u001b[39;49;00m,\n\u001b[0;32m    494\u001b[0m         decode_content\u001b[39m=\u001b[39;49m\u001b[39mFalse\u001b[39;49;00m,\n\u001b[0;32m    495\u001b[0m         retries\u001b[39m=\u001b[39;49m\u001b[39mself\u001b[39;49m\u001b[39m.\u001b[39;49mmax_retries,\n\u001b[0;32m    496\u001b[0m         timeout\u001b[39m=\u001b[39;49mtimeout,\n\u001b[0;32m    497\u001b[0m         chunked\u001b[39m=\u001b[39;49mchunked,\n\u001b[0;32m    498\u001b[0m     )\n\u001b[0;32m    500\u001b[0m \u001b[39mexcept\u001b[39;00m (ProtocolError, \u001b[39mOSError\u001b[39;00m) \u001b[39mas\u001b[39;00m err:\n",
      "File \u001b[1;32mc:\\Users\\admin\\anaconda3\\envs\\dungca4\\Lib\\site-packages\\urllib3\\connectionpool.py:714\u001b[0m, in \u001b[0;36mHTTPConnectionPool.urlopen\u001b[1;34m(self, method, url, body, headers, retries, redirect, assert_same_host, timeout, pool_timeout, release_conn, chunked, body_pos, **response_kw)\u001b[0m\n\u001b[0;32m    713\u001b[0m \u001b[39m# Make the request on the httplib connection object.\u001b[39;00m\n\u001b[1;32m--> 714\u001b[0m httplib_response \u001b[39m=\u001b[39m \u001b[39mself\u001b[39;49m\u001b[39m.\u001b[39;49m_make_request(\n\u001b[0;32m    715\u001b[0m     conn,\n\u001b[0;32m    716\u001b[0m     method,\n\u001b[0;32m    717\u001b[0m     url,\n\u001b[0;32m    718\u001b[0m     timeout\u001b[39m=\u001b[39;49mtimeout_obj,\n\u001b[0;32m    719\u001b[0m     body\u001b[39m=\u001b[39;49mbody,\n\u001b[0;32m    720\u001b[0m     headers\u001b[39m=\u001b[39;49mheaders,\n\u001b[0;32m    721\u001b[0m     chunked\u001b[39m=\u001b[39;49mchunked,\n\u001b[0;32m    722\u001b[0m )\n\u001b[0;32m    724\u001b[0m \u001b[39m# If we're going to release the connection in ``finally:``, then\u001b[39;00m\n\u001b[0;32m    725\u001b[0m \u001b[39m# the response doesn't need to know about the connection. Otherwise\u001b[39;00m\n\u001b[0;32m    726\u001b[0m \u001b[39m# it will also try to release it and we'll have a double-release\u001b[39;00m\n\u001b[0;32m    727\u001b[0m \u001b[39m# mess.\u001b[39;00m\n",
      "File \u001b[1;32mc:\\Users\\admin\\anaconda3\\envs\\dungca4\\Lib\\site-packages\\urllib3\\connectionpool.py:466\u001b[0m, in \u001b[0;36mHTTPConnectionPool._make_request\u001b[1;34m(self, conn, method, url, timeout, chunked, **httplib_request_kw)\u001b[0m\n\u001b[0;32m    462\u001b[0m         \u001b[39mexcept\u001b[39;00m \u001b[39mBaseException\u001b[39;00m \u001b[39mas\u001b[39;00m e:\n\u001b[0;32m    463\u001b[0m             \u001b[39m# Remove the TypeError from the exception chain in\u001b[39;00m\n\u001b[0;32m    464\u001b[0m             \u001b[39m# Python 3 (including for exceptions like SystemExit).\u001b[39;00m\n\u001b[0;32m    465\u001b[0m             \u001b[39m# Otherwise it looks like a bug in the code.\u001b[39;00m\n\u001b[1;32m--> 466\u001b[0m             six\u001b[39m.\u001b[39;49mraise_from(e, \u001b[39mNone\u001b[39;49;00m)\n\u001b[0;32m    467\u001b[0m \u001b[39mexcept\u001b[39;00m (SocketTimeout, BaseSSLError, SocketError) \u001b[39mas\u001b[39;00m e:\n",
      "File \u001b[1;32m<string>:3\u001b[0m, in \u001b[0;36mraise_from\u001b[1;34m(value, from_value)\u001b[0m\n",
      "File \u001b[1;32mc:\\Users\\admin\\anaconda3\\envs\\dungca4\\Lib\\site-packages\\urllib3\\connectionpool.py:461\u001b[0m, in \u001b[0;36mHTTPConnectionPool._make_request\u001b[1;34m(self, conn, method, url, timeout, chunked, **httplib_request_kw)\u001b[0m\n\u001b[0;32m    460\u001b[0m \u001b[39mtry\u001b[39;00m:\n\u001b[1;32m--> 461\u001b[0m     httplib_response \u001b[39m=\u001b[39m conn\u001b[39m.\u001b[39;49mgetresponse()\n\u001b[0;32m    462\u001b[0m \u001b[39mexcept\u001b[39;00m \u001b[39mBaseException\u001b[39;00m \u001b[39mas\u001b[39;00m e:\n\u001b[0;32m    463\u001b[0m     \u001b[39m# Remove the TypeError from the exception chain in\u001b[39;00m\n\u001b[0;32m    464\u001b[0m     \u001b[39m# Python 3 (including for exceptions like SystemExit).\u001b[39;00m\n\u001b[0;32m    465\u001b[0m     \u001b[39m# Otherwise it looks like a bug in the code.\u001b[39;00m\n",
      "File \u001b[1;32mc:\\Users\\admin\\anaconda3\\envs\\dungca4\\Lib\\http\\client.py:1378\u001b[0m, in \u001b[0;36mHTTPConnection.getresponse\u001b[1;34m(self)\u001b[0m\n\u001b[0;32m   1377\u001b[0m \u001b[39mtry\u001b[39;00m:\n\u001b[1;32m-> 1378\u001b[0m     response\u001b[39m.\u001b[39;49mbegin()\n\u001b[0;32m   1379\u001b[0m \u001b[39mexcept\u001b[39;00m \u001b[39mConnectionError\u001b[39;00m:\n",
      "File \u001b[1;32mc:\\Users\\admin\\anaconda3\\envs\\dungca4\\Lib\\http\\client.py:318\u001b[0m, in \u001b[0;36mHTTPResponse.begin\u001b[1;34m(self)\u001b[0m\n\u001b[0;32m    317\u001b[0m \u001b[39mwhile\u001b[39;00m \u001b[39mTrue\u001b[39;00m:\n\u001b[1;32m--> 318\u001b[0m     version, status, reason \u001b[39m=\u001b[39m \u001b[39mself\u001b[39;49m\u001b[39m.\u001b[39;49m_read_status()\n\u001b[0;32m    319\u001b[0m     \u001b[39mif\u001b[39;00m status \u001b[39m!=\u001b[39m CONTINUE:\n",
      "File \u001b[1;32mc:\\Users\\admin\\anaconda3\\envs\\dungca4\\Lib\\http\\client.py:279\u001b[0m, in \u001b[0;36mHTTPResponse._read_status\u001b[1;34m(self)\u001b[0m\n\u001b[0;32m    278\u001b[0m \u001b[39mdef\u001b[39;00m \u001b[39m_read_status\u001b[39m(\u001b[39mself\u001b[39m):\n\u001b[1;32m--> 279\u001b[0m     line \u001b[39m=\u001b[39m \u001b[39mstr\u001b[39m(\u001b[39mself\u001b[39m\u001b[39m.\u001b[39mfp\u001b[39m.\u001b[39mreadline(_MAXLINE \u001b[39m+\u001b[39m \u001b[39m1\u001b[39m), \u001b[39m\"\u001b[39m\u001b[39miso-8859-1\u001b[39m\u001b[39m\"\u001b[39m)\n\u001b[0;32m    280\u001b[0m     \u001b[39mif\u001b[39;00m \u001b[39mlen\u001b[39m(line) \u001b[39m>\u001b[39m _MAXLINE:\n",
      "File \u001b[1;32mc:\\Users\\admin\\anaconda3\\envs\\dungca4\\Lib\\socket.py:706\u001b[0m, in \u001b[0;36mSocketIO.readinto\u001b[1;34m(self, b)\u001b[0m\n\u001b[0;32m    705\u001b[0m \u001b[39mtry\u001b[39;00m:\n\u001b[1;32m--> 706\u001b[0m     \u001b[39mreturn\u001b[39;00m \u001b[39mself\u001b[39;49m\u001b[39m.\u001b[39;49m_sock\u001b[39m.\u001b[39;49mrecv_into(b)\n\u001b[0;32m    707\u001b[0m \u001b[39mexcept\u001b[39;00m timeout:\n",
      "File \u001b[1;32mc:\\Users\\admin\\anaconda3\\envs\\dungca4\\Lib\\ssl.py:1278\u001b[0m, in \u001b[0;36mSSLSocket.recv_into\u001b[1;34m(self, buffer, nbytes, flags)\u001b[0m\n\u001b[0;32m   1275\u001b[0m         \u001b[39mraise\u001b[39;00m \u001b[39mValueError\u001b[39;00m(\n\u001b[0;32m   1276\u001b[0m           \u001b[39m\"\u001b[39m\u001b[39mnon-zero flags not allowed in calls to recv_into() on \u001b[39m\u001b[39m%s\u001b[39;00m\u001b[39m\"\u001b[39m \u001b[39m%\u001b[39m\n\u001b[0;32m   1277\u001b[0m           \u001b[39mself\u001b[39m\u001b[39m.\u001b[39m\u001b[39m__class__\u001b[39m)\n\u001b[1;32m-> 1278\u001b[0m     \u001b[39mreturn\u001b[39;00m \u001b[39mself\u001b[39;49m\u001b[39m.\u001b[39;49mread(nbytes, buffer)\n\u001b[0;32m   1279\u001b[0m \u001b[39melse\u001b[39;00m:\n",
      "File \u001b[1;32mc:\\Users\\admin\\anaconda3\\envs\\dungca4\\Lib\\ssl.py:1134\u001b[0m, in \u001b[0;36mSSLSocket.read\u001b[1;34m(self, len, buffer)\u001b[0m\n\u001b[0;32m   1133\u001b[0m \u001b[39mif\u001b[39;00m buffer \u001b[39mis\u001b[39;00m \u001b[39mnot\u001b[39;00m \u001b[39mNone\u001b[39;00m:\n\u001b[1;32m-> 1134\u001b[0m     \u001b[39mreturn\u001b[39;00m \u001b[39mself\u001b[39;49m\u001b[39m.\u001b[39;49m_sslobj\u001b[39m.\u001b[39;49mread(\u001b[39mlen\u001b[39;49m, buffer)\n\u001b[0;32m   1135\u001b[0m \u001b[39melse\u001b[39;00m:\n",
      "\u001b[1;31mKeyboardInterrupt\u001b[0m: ",
      "\nDuring handling of the above exception, another exception occurred:\n",
      "\u001b[1;31mUnboundLocalError\u001b[0m                         Traceback (most recent call last)",
      "\u001b[1;32mc:\\Users\\admin\\Enhance\\debug_hc\\notebook\\EDA.ipynb Cell 8\u001b[0m line \u001b[0;36m1\n\u001b[1;32m----> <a href='vscode-notebook-cell:/c%3A/Users/admin/Enhance/debug_hc/notebook/EDA.ipynb#X10sZmlsZQ%3D%3D?line=0'>1</a>\u001b[0m call_data \u001b[39m=\u001b[39m call_data\u001b[39m.\u001b[39;49mprogress_apply(\u001b[39mlambda\u001b[39;49;00m rec: calculate_criteira(rec, m3_project_info, criteria_name), axis\u001b[39m=\u001b[39;49m\u001b[39m1\u001b[39;49m)\n",
      "File \u001b[1;32mc:\\Users\\admin\\anaconda3\\envs\\dungca4\\Lib\\site-packages\\tqdm\\std.py:920\u001b[0m, in \u001b[0;36mtqdm.pandas.<locals>.inner_generator.<locals>.inner\u001b[1;34m(df, func, *args, **kwargs)\u001b[0m\n\u001b[0;32m    917\u001b[0m \u001b[39m# Apply the provided function (in **kwargs)\u001b[39;00m\n\u001b[0;32m    918\u001b[0m \u001b[39m# on the df using our wrapper (which provides bar updating)\u001b[39;00m\n\u001b[0;32m    919\u001b[0m \u001b[39mtry\u001b[39;00m:\n\u001b[1;32m--> 920\u001b[0m     \u001b[39mreturn\u001b[39;00m \u001b[39mgetattr\u001b[39;49m(df, df_function)(wrapper, \u001b[39m*\u001b[39;49m\u001b[39m*\u001b[39;49mkwargs)\n\u001b[0;32m    921\u001b[0m \u001b[39mfinally\u001b[39;00m:\n\u001b[0;32m    922\u001b[0m     t\u001b[39m.\u001b[39mclose()\n",
      "File \u001b[1;32mc:\\Users\\admin\\anaconda3\\envs\\dungca4\\Lib\\site-packages\\pandas\\core\\frame.py:9423\u001b[0m, in \u001b[0;36mDataFrame.apply\u001b[1;34m(self, func, axis, raw, result_type, args, **kwargs)\u001b[0m\n\u001b[0;32m   9412\u001b[0m \u001b[39mfrom\u001b[39;00m \u001b[39mpandas\u001b[39;00m\u001b[39m.\u001b[39;00m\u001b[39mcore\u001b[39;00m\u001b[39m.\u001b[39;00m\u001b[39mapply\u001b[39;00m \u001b[39mimport\u001b[39;00m frame_apply\n\u001b[0;32m   9414\u001b[0m op \u001b[39m=\u001b[39m frame_apply(\n\u001b[0;32m   9415\u001b[0m     \u001b[39mself\u001b[39m,\n\u001b[0;32m   9416\u001b[0m     func\u001b[39m=\u001b[39mfunc,\n\u001b[1;32m   (...)\u001b[0m\n\u001b[0;32m   9421\u001b[0m     kwargs\u001b[39m=\u001b[39mkwargs,\n\u001b[0;32m   9422\u001b[0m )\n\u001b[1;32m-> 9423\u001b[0m \u001b[39mreturn\u001b[39;00m op\u001b[39m.\u001b[39;49mapply()\u001b[39m.\u001b[39m__finalize__(\u001b[39mself\u001b[39m, method\u001b[39m=\u001b[39m\u001b[39m\"\u001b[39m\u001b[39mapply\u001b[39m\u001b[39m\"\u001b[39m)\n",
      "File \u001b[1;32mc:\\Users\\admin\\anaconda3\\envs\\dungca4\\Lib\\site-packages\\pandas\\core\\apply.py:678\u001b[0m, in \u001b[0;36mFrameApply.apply\u001b[1;34m(self)\u001b[0m\n\u001b[0;32m    675\u001b[0m \u001b[39melif\u001b[39;00m \u001b[39mself\u001b[39m\u001b[39m.\u001b[39mraw:\n\u001b[0;32m    676\u001b[0m     \u001b[39mreturn\u001b[39;00m \u001b[39mself\u001b[39m\u001b[39m.\u001b[39mapply_raw()\n\u001b[1;32m--> 678\u001b[0m \u001b[39mreturn\u001b[39;00m \u001b[39mself\u001b[39;49m\u001b[39m.\u001b[39;49mapply_standard()\n",
      "File \u001b[1;32mc:\\Users\\admin\\anaconda3\\envs\\dungca4\\Lib\\site-packages\\pandas\\core\\apply.py:798\u001b[0m, in \u001b[0;36mFrameApply.apply_standard\u001b[1;34m(self)\u001b[0m\n\u001b[0;32m    797\u001b[0m \u001b[39mdef\u001b[39;00m \u001b[39mapply_standard\u001b[39m(\u001b[39mself\u001b[39m):\n\u001b[1;32m--> 798\u001b[0m     results, res_index \u001b[39m=\u001b[39m \u001b[39mself\u001b[39;49m\u001b[39m.\u001b[39;49mapply_series_generator()\n\u001b[0;32m    800\u001b[0m     \u001b[39m# wrap results\u001b[39;00m\n\u001b[0;32m    801\u001b[0m     \u001b[39mreturn\u001b[39;00m \u001b[39mself\u001b[39m\u001b[39m.\u001b[39mwrap_results(results, res_index)\n",
      "File \u001b[1;32mc:\\Users\\admin\\anaconda3\\envs\\dungca4\\Lib\\site-packages\\pandas\\core\\apply.py:814\u001b[0m, in \u001b[0;36mFrameApply.apply_series_generator\u001b[1;34m(self)\u001b[0m\n\u001b[0;32m    811\u001b[0m \u001b[39mwith\u001b[39;00m option_context(\u001b[39m\"\u001b[39m\u001b[39mmode.chained_assignment\u001b[39m\u001b[39m\"\u001b[39m, \u001b[39mNone\u001b[39;00m):\n\u001b[0;32m    812\u001b[0m     \u001b[39mfor\u001b[39;00m i, v \u001b[39min\u001b[39;00m \u001b[39menumerate\u001b[39m(series_gen):\n\u001b[0;32m    813\u001b[0m         \u001b[39m# ignore SettingWithCopy here in case the user mutates\u001b[39;00m\n\u001b[1;32m--> 814\u001b[0m         results[i] \u001b[39m=\u001b[39m \u001b[39mself\u001b[39;49m\u001b[39m.\u001b[39;49mf(v)\n\u001b[0;32m    815\u001b[0m         \u001b[39mif\u001b[39;00m \u001b[39misinstance\u001b[39m(results[i], ABCSeries):\n\u001b[0;32m    816\u001b[0m             \u001b[39m# If we have a view on v, we need to make a copy because\u001b[39;00m\n\u001b[0;32m    817\u001b[0m             \u001b[39m#  series_generator will swap out the underlying data\u001b[39;00m\n\u001b[0;32m    818\u001b[0m             results[i] \u001b[39m=\u001b[39m results[i]\u001b[39m.\u001b[39mcopy(deep\u001b[39m=\u001b[39m\u001b[39mFalse\u001b[39;00m)\n",
      "File \u001b[1;32mc:\\Users\\admin\\anaconda3\\envs\\dungca4\\Lib\\site-packages\\tqdm\\std.py:915\u001b[0m, in \u001b[0;36mtqdm.pandas.<locals>.inner_generator.<locals>.inner.<locals>.wrapper\u001b[1;34m(*args, **kwargs)\u001b[0m\n\u001b[0;32m    909\u001b[0m \u001b[39mdef\u001b[39;00m \u001b[39mwrapper\u001b[39m(\u001b[39m*\u001b[39margs, \u001b[39m*\u001b[39m\u001b[39m*\u001b[39mkwargs):\n\u001b[0;32m    910\u001b[0m     \u001b[39m# update tbar correctly\u001b[39;00m\n\u001b[0;32m    911\u001b[0m     \u001b[39m# it seems `pandas apply` calls `func` twice\u001b[39;00m\n\u001b[0;32m    912\u001b[0m     \u001b[39m# on the first column/row to decide whether it can\u001b[39;00m\n\u001b[0;32m    913\u001b[0m     \u001b[39m# take a fast or slow code path; so stop when t.total==t.n\u001b[39;00m\n\u001b[0;32m    914\u001b[0m     t\u001b[39m.\u001b[39mupdate(n\u001b[39m=\u001b[39m\u001b[39m1\u001b[39m \u001b[39mif\u001b[39;00m \u001b[39mnot\u001b[39;00m t\u001b[39m.\u001b[39mtotal \u001b[39mor\u001b[39;00m t\u001b[39m.\u001b[39mn \u001b[39m<\u001b[39m t\u001b[39m.\u001b[39mtotal \u001b[39melse\u001b[39;00m \u001b[39m0\u001b[39m)\n\u001b[1;32m--> 915\u001b[0m     \u001b[39mreturn\u001b[39;00m func(\u001b[39m*\u001b[39;49margs, \u001b[39m*\u001b[39;49m\u001b[39m*\u001b[39;49mkwargs)\n",
      "\u001b[1;32mc:\\Users\\admin\\Enhance\\debug_hc\\notebook\\EDA.ipynb Cell 8\u001b[0m line \u001b[0;36m1\n\u001b[1;32m----> <a href='vscode-notebook-cell:/c%3A/Users/admin/Enhance/debug_hc/notebook/EDA.ipynb#X10sZmlsZQ%3D%3D?line=0'>1</a>\u001b[0m call_data \u001b[39m=\u001b[39m call_data\u001b[39m.\u001b[39mprogress_apply(\u001b[39mlambda\u001b[39;00m rec: calculate_criteira(rec, m3_project_info, criteria_name), axis\u001b[39m=\u001b[39m\u001b[39m1\u001b[39m)\n",
      "\u001b[1;32mc:\\Users\\admin\\Enhance\\debug_hc\\notebook\\EDA.ipynb Cell 8\u001b[0m line \u001b[0;36m2\n\u001b[0;32m     <a href='vscode-notebook-cell:/c%3A/Users/admin/Enhance/debug_hc/notebook/EDA.ipynb#X10sZmlsZQ%3D%3D?line=24'>25</a>\u001b[0m     \u001b[39mbreak\u001b[39;00m\n\u001b[0;32m     <a href='vscode-notebook-cell:/c%3A/Users/admin/Enhance/debug_hc/notebook/EDA.ipynb#X10sZmlsZQ%3D%3D?line=25'>26</a>\u001b[0m \u001b[39mexcept\u001b[39;00m:\n\u001b[1;32m---> <a href='vscode-notebook-cell:/c%3A/Users/admin/Enhance/debug_hc/notebook/EDA.ipynb#X10sZmlsZQ%3D%3D?line=26'>27</a>\u001b[0m     \u001b[39mprint\u001b[39m(result\u001b[39m.\u001b[39mkeys())\n\u001b[0;32m     <a href='vscode-notebook-cell:/c%3A/Users/admin/Enhance/debug_hc/notebook/EDA.ipynb#X10sZmlsZQ%3D%3D?line=27'>28</a>\u001b[0m     \u001b[39mprint\u001b[39m(rec[\u001b[39m\"\u001b[39m\u001b[39mname\u001b[39m\u001b[39m\"\u001b[39m])\n\u001b[0;32m     <a href='vscode-notebook-cell:/c%3A/Users/admin/Enhance/debug_hc/notebook/EDA.ipynb#X10sZmlsZQ%3D%3D?line=28'>29</a>\u001b[0m     time\u001b[39m.\u001b[39msleep(\u001b[39m10\u001b[39m)\n",
      "\u001b[1;31mUnboundLocalError\u001b[0m: cannot access local variable 'result' where it is not associated with a value"
     ]
    }
   ],
   "source": [
    "call_data = call_data.progress_apply(lambda rec: calculate_criteira(rec, m3_project_info, criteria_name), axis=1)"
   ]
  },
  {
   "cell_type": "code",
   "execution_count": null,
   "metadata": {},
   "outputs": [
    {
     "data": {
      "text/html": [
       "<div>\n",
       "<style scoped>\n",
       "    .dataframe tbody tr th:only-of-type {\n",
       "        vertical-align: middle;\n",
       "    }\n",
       "\n",
       "    .dataframe tbody tr th {\n",
       "        vertical-align: top;\n",
       "    }\n",
       "\n",
       "    .dataframe thead th {\n",
       "        text-align: right;\n",
       "    }\n",
       "</style>\n",
       "<table border=\"1\" class=\"dataframe\">\n",
       "  <thead>\n",
       "    <tr style=\"text-align: right;\">\n",
       "      <th></th>\n",
       "      <th>name</th>\n",
       "      <th>agentChannel</th>\n",
       "      <th>content</th>\n",
       "      <th>metadata</th>\n",
       "      <th>willpaySummary</th>\n",
       "      <th>nopaySummary</th>\n",
       "      <th>paidSummary</th>\n",
       "    </tr>\n",
       "  </thead>\n",
       "  <tbody>\n",
       "    <tr>\n",
       "      <th>0</th>\n",
       "      <td>1685157935457_3738_850961387032_517774092.mp3</td>\n",
       "      <td>1</td>\n",
       "      <td>[{'channel': 1, 'text': 'cái gì xin chào chào ...</td>\n",
       "      <td>{'parent': 'metadata_20230527_1685945582075', ...</td>\n",
       "      <td>yes</td>\n",
       "      <td>no</td>\n",
       "      <td>no</td>\n",
       "    </tr>\n",
       "    <tr>\n",
       "      <th>1</th>\n",
       "      <td>1685152174765_3764_810989107939_517731851.mp3</td>\n",
       "      <td>1</td>\n",
       "      <td>[{'channel': 1, 'text': 'xin chào bên em gọi q...</td>\n",
       "      <td>{'parent': 'metadata_20230527_1685945582075', ...</td>\n",
       "      <td>no</td>\n",
       "      <td>no</td>\n",
       "      <td>no</td>\n",
       "    </tr>\n",
       "    <tr>\n",
       "      <th>2</th>\n",
       "      <td>1685158598464_3738_850972579342_522808569.mp3</td>\n",
       "      <td>1</td>\n",
       "      <td>[{'channel': 1, 'text': 'dạ xin chào bên home ...</td>\n",
       "      <td>{'parent': 'metadata_20230527_1685945582075', ...</td>\n",
       "      <td>no</td>\n",
       "      <td>no</td>\n",
       "      <td>no</td>\n",
       "    </tr>\n",
       "    <tr>\n",
       "      <th>3</th>\n",
       "      <td>1685581769516_3600_850988632007_518568283.mp3</td>\n",
       "      <td>1</td>\n",
       "      <td>[{'channel': 1, 'text': 'alo chào em bên home ...</td>\n",
       "      <td>{'parent': 'metadata_20230601_1685945569381', ...</td>\n",
       "      <td>no</td>\n",
       "      <td>no</td>\n",
       "      <td>no</td>\n",
       "    </tr>\n",
       "    <tr>\n",
       "      <th>4</th>\n",
       "      <td>1685851451096_3732_810912509169_519117581.mp3</td>\n",
       "      <td>1</td>\n",
       "      <td>[{'channel': 1, 'text': 'chào phương home cred...</td>\n",
       "      <td>{'parent': 'metadata_20230604_1686546696463', ...</td>\n",
       "      <td>no</td>\n",
       "      <td>no</td>\n",
       "      <td>no</td>\n",
       "    </tr>\n",
       "    <tr>\n",
       "      <th>...</th>\n",
       "      <td>...</td>\n",
       "      <td>...</td>\n",
       "      <td>...</td>\n",
       "      <td>...</td>\n",
       "      <td>...</td>\n",
       "      <td>...</td>\n",
       "      <td>...</td>\n",
       "    </tr>\n",
       "    <tr>\n",
       "      <th>402</th>\n",
       "      <td>1685767446133_3466_810906924291_518985855.mp3</td>\n",
       "      <td>1</td>\n",
       "      <td>[{'channel': 1, 'text': 'dạ alo chào nay mặt t...</td>\n",
       "      <td>{'parent': 'metadata_20230603_1686546710164', ...</td>\n",
       "      <td>no</td>\n",
       "      <td>no</td>\n",
       "      <td>no</td>\n",
       "    </tr>\n",
       "    <tr>\n",
       "      <th>407</th>\n",
       "      <td>1685927864453_3729_810974579084_519201989.mp3</td>\n",
       "      <td>1</td>\n",
       "      <td>[{'channel': 1, 'text': 'chào linh gọi từ home...</td>\n",
       "      <td>{'parent': 'metadata_20230605_1686546722121', ...</td>\n",
       "      <td>no</td>\n",
       "      <td>no</td>\n",
       "      <td>no</td>\n",
       "    </tr>\n",
       "    <tr>\n",
       "      <th>411</th>\n",
       "      <td>1684981476107_3771_850966858098_522434696.mp3</td>\n",
       "      <td>1</td>\n",
       "      <td>[{'channel': 2, 'text': 'alo'}, {'channel': 1,...</td>\n",
       "      <td>{'parent': 'metadata_20230525_1685360595626', ...</td>\n",
       "      <td>no</td>\n",
       "      <td>no</td>\n",
       "      <td>no</td>\n",
       "    </tr>\n",
       "    <tr>\n",
       "      <th>412</th>\n",
       "      <td>1685064372290_3743_810931516538_517542970.mp3</td>\n",
       "      <td>1</td>\n",
       "      <td>[{'channel': 1, 'text': 'chào thi home credit ...</td>\n",
       "      <td>{'parent': 'metadata_20230526_1685360610102', ...</td>\n",
       "      <td>yes</td>\n",
       "      <td>no</td>\n",
       "      <td>no</td>\n",
       "    </tr>\n",
       "    <tr>\n",
       "      <th>413</th>\n",
       "      <td>1684979915716_3753_810705974267_517393352.mp3</td>\n",
       "      <td>1</td>\n",
       "      <td>[{'channel': 2, 'text': 'alo'}, {'channel': 1,...</td>\n",
       "      <td>{'parent': 'metadata_20230525_1685360595626', ...</td>\n",
       "      <td>no</td>\n",
       "      <td>no</td>\n",
       "      <td>no</td>\n",
       "    </tr>\n",
       "  </tbody>\n",
       "</table>\n",
       "<p>300 rows × 7 columns</p>\n",
       "</div>"
      ],
      "text/plain": [
       "                                              name  agentChannel  \\\n",
       "0    1685157935457_3738_850961387032_517774092.mp3             1   \n",
       "1    1685152174765_3764_810989107939_517731851.mp3             1   \n",
       "2    1685158598464_3738_850972579342_522808569.mp3             1   \n",
       "3    1685581769516_3600_850988632007_518568283.mp3             1   \n",
       "4    1685851451096_3732_810912509169_519117581.mp3             1   \n",
       "..                                             ...           ...   \n",
       "402  1685767446133_3466_810906924291_518985855.mp3             1   \n",
       "407  1685927864453_3729_810974579084_519201989.mp3             1   \n",
       "411  1684981476107_3771_850966858098_522434696.mp3             1   \n",
       "412  1685064372290_3743_810931516538_517542970.mp3             1   \n",
       "413  1684979915716_3753_810705974267_517393352.mp3             1   \n",
       "\n",
       "                                               content  \\\n",
       "0    [{'channel': 1, 'text': 'cái gì xin chào chào ...   \n",
       "1    [{'channel': 1, 'text': 'xin chào bên em gọi q...   \n",
       "2    [{'channel': 1, 'text': 'dạ xin chào bên home ...   \n",
       "3    [{'channel': 1, 'text': 'alo chào em bên home ...   \n",
       "4    [{'channel': 1, 'text': 'chào phương home cred...   \n",
       "..                                                 ...   \n",
       "402  [{'channel': 1, 'text': 'dạ alo chào nay mặt t...   \n",
       "407  [{'channel': 1, 'text': 'chào linh gọi từ home...   \n",
       "411  [{'channel': 2, 'text': 'alo'}, {'channel': 1,...   \n",
       "412  [{'channel': 1, 'text': 'chào thi home credit ...   \n",
       "413  [{'channel': 2, 'text': 'alo'}, {'channel': 1,...   \n",
       "\n",
       "                                              metadata willpaySummary  \\\n",
       "0    {'parent': 'metadata_20230527_1685945582075', ...            yes   \n",
       "1    {'parent': 'metadata_20230527_1685945582075', ...             no   \n",
       "2    {'parent': 'metadata_20230527_1685945582075', ...             no   \n",
       "3    {'parent': 'metadata_20230601_1685945569381', ...             no   \n",
       "4    {'parent': 'metadata_20230604_1686546696463', ...             no   \n",
       "..                                                 ...            ...   \n",
       "402  {'parent': 'metadata_20230603_1686546710164', ...             no   \n",
       "407  {'parent': 'metadata_20230605_1686546722121', ...             no   \n",
       "411  {'parent': 'metadata_20230525_1685360595626', ...             no   \n",
       "412  {'parent': 'metadata_20230526_1685360610102', ...            yes   \n",
       "413  {'parent': 'metadata_20230525_1685360595626', ...             no   \n",
       "\n",
       "    nopaySummary paidSummary  \n",
       "0             no          no  \n",
       "1             no          no  \n",
       "2             no          no  \n",
       "3             no          no  \n",
       "4             no          no  \n",
       "..           ...         ...  \n",
       "402           no          no  \n",
       "407           no          no  \n",
       "411           no          no  \n",
       "412           no          no  \n",
       "413           no          no  \n",
       "\n",
       "[300 rows x 7 columns]"
      ]
     },
     "execution_count": 9,
     "metadata": {},
     "output_type": "execute_result"
    }
   ],
   "source": [
    "call_data"
   ]
  },
  {
   "cell_type": "code",
   "execution_count": null,
   "metadata": {},
   "outputs": [],
   "source": [
    "call_data.to_csv(\"../csv/callResultAI.csv\", index=False, encoding=\"utf-8-sig\")"
   ]
  },
  {
   "cell_type": "code",
   "execution_count": null,
   "metadata": {},
   "outputs": [],
   "source": [
    "compare = labels.loc[labels[\"Criterion Name\"] == \"Contain all information\"].merge(call_data, left_on='File Name', right_on='name')\n",
    "compare = compare[[\"name\", \"Criterion Name\", \"Expected Result\"] + criteria_name]\n",
    "compare['Expected Result'] = compare['Expected Result'].replace(np.nan, \"no\")\n",
    "compare[\"Expected Result\"] = compare[\"Expected Result\"].apply(str.lower)"
   ]
  },
  {
   "cell_type": "code",
   "execution_count": null,
   "metadata": {},
   "outputs": [
    {
     "data": {
      "text/html": [
       "<div>\n",
       "<style scoped>\n",
       "    .dataframe tbody tr th:only-of-type {\n",
       "        vertical-align: middle;\n",
       "    }\n",
       "\n",
       "    .dataframe tbody tr th {\n",
       "        vertical-align: top;\n",
       "    }\n",
       "\n",
       "    .dataframe thead th {\n",
       "        text-align: right;\n",
       "    }\n",
       "</style>\n",
       "<table border=\"1\" class=\"dataframe\">\n",
       "  <thead>\n",
       "    <tr style=\"text-align: right;\">\n",
       "      <th></th>\n",
       "      <th>name</th>\n",
       "      <th>Criterion Name</th>\n",
       "      <th>Expected Result</th>\n",
       "      <th>willpaySummary</th>\n",
       "      <th>nopaySummary</th>\n",
       "      <th>paidSummary</th>\n",
       "    </tr>\n",
       "  </thead>\n",
       "  <tbody>\n",
       "    <tr>\n",
       "      <th>0</th>\n",
       "      <td>1684482083958_3770_810983451276_516462765.mp3</td>\n",
       "      <td>Contain all information</td>\n",
       "      <td>no</td>\n",
       "      <td>no</td>\n",
       "      <td>no</td>\n",
       "      <td>no</td>\n",
       "    </tr>\n",
       "    <tr>\n",
       "      <th>1</th>\n",
       "      <td>1684482109334_3771_810932104194_516462776.mp3</td>\n",
       "      <td>Contain all information</td>\n",
       "      <td>no</td>\n",
       "      <td>no</td>\n",
       "      <td>no</td>\n",
       "      <td>no</td>\n",
       "    </tr>\n",
       "    <tr>\n",
       "      <th>2</th>\n",
       "      <td>1684484668825_3776_810365496726_516470077.mp3</td>\n",
       "      <td>Contain all information</td>\n",
       "      <td>no</td>\n",
       "      <td>no</td>\n",
       "      <td>no</td>\n",
       "      <td>no</td>\n",
       "    </tr>\n",
       "    <tr>\n",
       "      <th>3</th>\n",
       "      <td>1684484804994_3753_810989015916_516470478.mp3</td>\n",
       "      <td>Contain all information</td>\n",
       "      <td>no</td>\n",
       "      <td>no</td>\n",
       "      <td>no</td>\n",
       "      <td>no</td>\n",
       "    </tr>\n",
       "    <tr>\n",
       "      <th>4</th>\n",
       "      <td>1684485272349_3648_810939424196_516471469.mp3</td>\n",
       "      <td>Contain all information</td>\n",
       "      <td>no</td>\n",
       "      <td>no</td>\n",
       "      <td>no</td>\n",
       "      <td>no</td>\n",
       "    </tr>\n",
       "    <tr>\n",
       "      <th>...</th>\n",
       "      <td>...</td>\n",
       "      <td>...</td>\n",
       "      <td>...</td>\n",
       "      <td>...</td>\n",
       "      <td>...</td>\n",
       "      <td>...</td>\n",
       "    </tr>\n",
       "    <tr>\n",
       "      <th>295</th>\n",
       "      <td>1686275888826_3729_810973322412_519911491.mp3</td>\n",
       "      <td>Contain all information</td>\n",
       "      <td>yes</td>\n",
       "      <td>no</td>\n",
       "      <td>yes</td>\n",
       "      <td>no</td>\n",
       "    </tr>\n",
       "    <tr>\n",
       "      <th>296</th>\n",
       "      <td>1686276029433_3734_810981456551_519912816.mp3</td>\n",
       "      <td>Contain all information</td>\n",
       "      <td>yes</td>\n",
       "      <td>yes</td>\n",
       "      <td>no</td>\n",
       "      <td>no</td>\n",
       "    </tr>\n",
       "    <tr>\n",
       "      <th>297</th>\n",
       "      <td>1686279460634_3732_810909757150_519942265.mp3</td>\n",
       "      <td>Contain all information</td>\n",
       "      <td>no</td>\n",
       "      <td>no</td>\n",
       "      <td>no</td>\n",
       "      <td>no</td>\n",
       "    </tr>\n",
       "    <tr>\n",
       "      <th>298</th>\n",
       "      <td>1686285301787_3769_810337445113_519982400.mp3</td>\n",
       "      <td>Contain all information</td>\n",
       "      <td>no</td>\n",
       "      <td>no</td>\n",
       "      <td>no</td>\n",
       "      <td>no</td>\n",
       "    </tr>\n",
       "    <tr>\n",
       "      <th>299</th>\n",
       "      <td>1686296155875_3755_810349533873_525039757.mp3</td>\n",
       "      <td>Contain all information</td>\n",
       "      <td>no</td>\n",
       "      <td>no</td>\n",
       "      <td>no</td>\n",
       "      <td>no</td>\n",
       "    </tr>\n",
       "  </tbody>\n",
       "</table>\n",
       "<p>300 rows × 6 columns</p>\n",
       "</div>"
      ],
      "text/plain": [
       "                                              name           Criterion Name  \\\n",
       "0    1684482083958_3770_810983451276_516462765.mp3  Contain all information   \n",
       "1    1684482109334_3771_810932104194_516462776.mp3  Contain all information   \n",
       "2    1684484668825_3776_810365496726_516470077.mp3  Contain all information   \n",
       "3    1684484804994_3753_810989015916_516470478.mp3  Contain all information   \n",
       "4    1684485272349_3648_810939424196_516471469.mp3  Contain all information   \n",
       "..                                             ...                      ...   \n",
       "295  1686275888826_3729_810973322412_519911491.mp3  Contain all information   \n",
       "296  1686276029433_3734_810981456551_519912816.mp3  Contain all information   \n",
       "297  1686279460634_3732_810909757150_519942265.mp3  Contain all information   \n",
       "298  1686285301787_3769_810337445113_519982400.mp3  Contain all information   \n",
       "299  1686296155875_3755_810349533873_525039757.mp3  Contain all information   \n",
       "\n",
       "    Expected Result willpaySummary nopaySummary paidSummary  \n",
       "0                no             no           no          no  \n",
       "1                no             no           no          no  \n",
       "2                no             no           no          no  \n",
       "3                no             no           no          no  \n",
       "4                no             no           no          no  \n",
       "..              ...            ...          ...         ...  \n",
       "295             yes             no          yes          no  \n",
       "296             yes            yes           no          no  \n",
       "297              no             no           no          no  \n",
       "298              no             no           no          no  \n",
       "299              no             no           no          no  \n",
       "\n",
       "[300 rows x 6 columns]"
      ]
     },
     "execution_count": 12,
     "metadata": {},
     "output_type": "execute_result"
    }
   ],
   "source": [
    "compare"
   ]
  },
  {
   "cell_type": "code",
   "execution_count": null,
   "metadata": {},
   "outputs": [],
   "source": [
    "compare['Expected Result'] = compare['Expected Result'].replace(\"partially\", \"no\")"
   ]
  },
  {
   "cell_type": "code",
   "execution_count": null,
   "metadata": {},
   "outputs": [
    {
     "data": {
      "text/plain": [
       "Expected Result\n",
       "no     222\n",
       "yes     78\n",
       "Name: count, dtype: int64"
      ]
     },
     "execution_count": 14,
     "metadata": {},
     "output_type": "execute_result"
    }
   ],
   "source": [
    "compare['Expected Result'].value_counts()"
   ]
  },
  {
   "cell_type": "code",
   "execution_count": null,
   "metadata": {},
   "outputs": [],
   "source": [
    "acc_willpay = 1-len(compare[\"Expected Result\"].compare(compare[\"willpaySummary\"]))/len(compare)\n",
    "acc_nopay = 1-len(compare[\"Expected Result\"].compare(compare[\"nopaySummary\"]))/len(compare)\n",
    "acc_paid = 1-len(compare[\"Expected Result\"].compare(compare[\"paidSummary\"]))/len(compare)"
   ]
  },
  {
   "cell_type": "code",
   "execution_count": null,
   "metadata": {},
   "outputs": [
    {
     "name": "stdout",
     "output_type": "stream",
     "text": [
      "0.6866666666666666\n",
      "0.6933333333333334\n",
      "0.7333333333333334\n"
     ]
    }
   ],
   "source": [
    "print(acc_willpay)\n",
    "print(acc_nopay)\n",
    "print(acc_paid)"
   ]
  },
  {
   "cell_type": "code",
   "execution_count": null,
   "metadata": {},
   "outputs": [
    {
     "name": "stdout",
     "output_type": "stream",
     "text": [
      "Accuracy: 0.7044444444444444\n"
     ]
    }
   ],
   "source": [
    "accuracy = np.mean([acc_willpay, acc_nopay, acc_paid])\n",
    "print(f\"Accuracy: {accuracy}\")"
   ]
  },
  {
   "cell_type": "code",
   "execution_count": null,
   "metadata": {},
   "outputs": [
    {
     "name": "stdout",
     "output_type": "stream",
     "text": [
      "70\n"
     ]
    }
   ],
   "source": [
    "print(len(compare[(compare[\"Expected Result\"]==\"no\") & (compare[\"willpaySummary\"]==\"yes\")]))"
   ]
  },
  {
   "cell_type": "code",
   "execution_count": null,
   "metadata": {},
   "outputs": [
    {
     "name": "stdout",
     "output_type": "stream",
     "text": [
      "24\n"
     ]
    }
   ],
   "source": [
    "print(len(compare[(compare[\"Expected Result\"]==\"yes\") & (compare[\"willpaySummary\"]==\"no\")]))"
   ]
  },
  {
   "cell_type": "code",
   "execution_count": null,
   "metadata": {},
   "outputs": [],
   "source": [
    "import json\n",
    "\n",
    "with open('../json/data/m3_call_clean.json', 'r', encoding=\"utf-8\") as file:\n",
    "    # Tạo đối tượng csv reader\n",
    "    reader =json.load(file)\n",
    "    \n",
    "result = []\n",
    "\n",
    "for call in reader:\n",
    "    file_name = call['name']\n",
    "    agentChannel = call[\"agentChannel\"]\n",
    "    content = call['content']\n",
    "    tr = []\n",
    "    for sentences in content:\n",
    "        text = {}\n",
    "        text[\"channel\"] = sentences['channel']\n",
    "        text['text'] = sentences['text']\n",
    "        tr.append(text)\n",
    "    result.append({\"file_name\": file_name, \"agentChannel\": agentChannel, \"content\": tr})\n",
    "    \n",
    "with open(\"../json/content/result_content_m3.json\", \"w\", encoding=\"utf-8\") as f:\n",
    "    json.dump(result, f, ensure_ascii=False, indent=4)"
   ]
  },
  {
   "cell_type": "code",
   "execution_count": null,
   "metadata": {},
   "outputs": [
    {
     "data": {
      "text/plain": [
       "418"
      ]
     },
     "execution_count": 21,
     "metadata": {},
     "output_type": "execute_result"
    }
   ],
   "source": [
    "len(result)"
   ]
  },
  {
   "cell_type": "code",
   "execution_count": null,
   "metadata": {},
   "outputs": [],
   "source": [
    "y_true = [i for i in compare['Expected Result']]\n",
    "y_pred_willpay = [i for i in compare['willpaySummary']]"
   ]
  },
  {
   "cell_type": "code",
   "execution_count": null,
   "metadata": {},
   "outputs": [],
   "source": [
    "labels = ['yes', 'no']"
   ]
  },
  {
   "cell_type": "code",
   "execution_count": null,
   "metadata": {},
   "outputs": [
    {
     "name": "stdout",
     "output_type": "stream",
     "text": [
      "willpaySummary:\n",
      "              precision    recall  f1-score   support\n",
      "\n",
      "         yes       0.44      0.69      0.53        78\n",
      "          no       0.86      0.68      0.76       222\n",
      "\n",
      "    accuracy                           0.69       300\n",
      "   macro avg       0.65      0.69      0.65       300\n",
      "weighted avg       0.75      0.69      0.70       300\n",
      "\n"
     ]
    }
   ],
   "source": [
    "print(\"willpaySummary:\")\n",
    "print(classification_report(y_true, y_pred_willpay, labels=labels, zero_division=1))"
   ]
  }
 ],
 "metadata": {
  "kernelspec": {
   "display_name": "Python 3 (ipykernel)",
   "language": "python",
   "name": "python3"
  },
  "language_info": {
   "codemirror_mode": {
    "name": "ipython",
    "version": 3
   },
   "file_extension": ".py",
   "mimetype": "text/x-python",
   "name": "python",
   "nbconvert_exporter": "python",
   "pygments_lexer": "ipython3",
   "version": "3.11.4"
  }
 },
 "nbformat": 4,
 "nbformat_minor": 4
}

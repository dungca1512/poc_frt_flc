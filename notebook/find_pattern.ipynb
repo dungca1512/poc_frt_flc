{
 "cells": [
  {
   "cell_type": "code",
   "execution_count": 1,
   "metadata": {},
   "outputs": [],
   "source": [
    "import json\n",
    "import pandas as pd\n",
    "import numpy as np"
   ]
  },
  {
   "cell_type": "code",
   "execution_count": 2,
   "metadata": {},
   "outputs": [],
   "source": [
    "with open(\"../json/response/nlp_response_m3.json\", \"r\", encoding = \"utf-8\") as f:\n",
    "    nlp_response = json.load(f)"
   ]
  },
  {
   "cell_type": "code",
   "execution_count": 3,
   "metadata": {},
   "outputs": [],
   "source": [
    "bot_name = \"m3SumOH__latest\"\n",
    "intent = \"oh\"\n",
    "n_lookup = 20\n",
    "result = {}"
   ]
  },
  {
   "cell_type": "code",
   "execution_count": 4,
   "metadata": {},
   "outputs": [],
   "source": [
    "for call in nlp_response: # loop each call\n",
    "    call_data = call[\"data\"]\n",
    "    call_name = call[\"fileName\"]\n",
    "    temp_result = {\"start_index\": None,\n",
    "                   \"entities\": []}\n",
    "    for i, data in enumerate(call_data): # loop each sentence in one call\n",
    "        \n",
    "        sum = data[bot_name]\n",
    "        text = sum['text']\n",
    "        intents = sum['intents']\n",
    "        entities = sum['entities']\n",
    "        entities_value = [x[\"entity\"] for x in entities]\n",
    "        \n",
    "        if text != \"\":\n",
    "            if intents[0][\"label\"] == intent:\n",
    "                temp_result[\"start_index\"] = i\n",
    "                for j in range(n_lookup):\n",
    "                    try:\n",
    "                        entities_lookup = call_data[i + j][bot_name][\"entities\"]\n",
    "                        lookup_value = [x[\"entity\"] for x in entities_lookup]\n",
    "                        if lookup_value[0] not in entities_value:\n",
    "                            entities_value.extend(lookup_value)\n",
    "                        continue\n",
    "                    except:\n",
    "                        break\n",
    "            # if entities:\n",
    "                temp_result[\"entities\"] = entities_value\n",
    "                break\n",
    "    result[call_name] = temp_result"
   ]
  },
  {
   "cell_type": "code",
   "execution_count": 5,
   "metadata": {},
   "outputs": [],
   "source": [
    "with open(\"../json/response/response_criteria/find_patterns.json\", \"w\", encoding=\"utf-8\") as f:\n",
    "    json.dump(result, f, ensure_ascii=False, indent=4)"
   ]
  },
  {
   "cell_type": "code",
   "execution_count": 6,
   "metadata": {},
   "outputs": [
    {
     "name": "stdout",
     "output_type": "stream",
     "text": [
      "{'oh_solution': 99, 'motivation_result': 3, 'motivation_title': 10, 'amount': 5, 'payment_datetime': 3}\n"
     ]
    }
   ],
   "source": [
    "count = {}\n",
    "start_index = []\n",
    "for call_name in result:\n",
    "    try:\n",
    "        first_entity = result[call_name][\"entities\"][0]\n",
    "    except:\n",
    "        continue\n",
    "    if first_entity not in count: count[first_entity] = 1\n",
    "    else: count[first_entity] += 1\n",
    "    start_index.append(result[call_name][\"start_index\"])\n",
    "\n",
    "print(count)"
   ]
  },
  {
   "cell_type": "code",
   "execution_count": 7,
   "metadata": {},
   "outputs": [
    {
     "name": "stdout",
     "output_type": "stream",
     "text": [
      "41\n",
      "4\n",
      "11.633333333333333\n",
      "9.0\n",
      "23.0\n",
      "4.9\n"
     ]
    }
   ],
   "source": [
    "start_index = np.array(start_index)\n",
    "print(np.max(start_index))\n",
    "print(np.min(start_index))\n",
    "print(np.mean(start_index))\n",
    "print(np.median(start_index))\n",
    "print(np.quantile(start_index, 0.9))\n",
    "print(np.quantile(start_index, 0.1))"
   ]
  }
 ],
 "metadata": {
  "kernelspec": {
   "display_name": "chinhnq5",
   "language": "python",
   "name": "python3"
  },
  "language_info": {
   "codemirror_mode": {
    "name": "ipython",
    "version": 3
   },
   "file_extension": ".py",
   "mimetype": "text/x-python",
   "name": "python",
   "nbconvert_exporter": "python",
   "pygments_lexer": "ipython3",
   "version": "3.11.4"
  },
  "orig_nbformat": 4
 },
 "nbformat": 4,
 "nbformat_minor": 2
}

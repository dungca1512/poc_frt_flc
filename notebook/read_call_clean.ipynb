{
 "cells": [
  {
   "cell_type": "code",
   "execution_count": 3,
   "id": "f11caf5c-32ea-41e8-ba46-e4f11a39d88d",
   "metadata": {},
   "outputs": [],
   "source": [
    "import json\n",
    "\n",
    "# Mở file CSV\n",
    "with open('m3_call_clean.json', 'r', encoding=\"utf-8\") as file:\n",
    "    # Tạo đối tượng csv reader\n",
    "    reader =json.load(file)\n",
    "\n",
    "# for audio in reader:\n",
    "#     print(audio['name'])\n",
    "#     for text in audio['content']:\n",
    "#         print(text['channel'], text['text'])\n",
    "#     print('------------------\\n\\n\\n')"
   ]
  },
  {
   "cell_type": "code",
   "execution_count": 13,
   "id": "8a66455d-3c45-4850-b5d1-d9b58b7425ff",
   "metadata": {},
   "outputs": [],
   "source": [
    "with open(\"read_call_clean.txt\", \"w\", encoding=\"utf-8\") as f:\n",
    "    for audio in reader:\n",
    "        f.write(audio['name'] + \"\\n\")\n",
    "        for text in audio['content']:\n",
    "            f.write(str(text['channel']) + \": \" + text['text'] + \"\\n\")\n",
    "        f.write('------------------\\n\\n\\n')"
   ]
  }
 ],
 "metadata": {
  "kernelspec": {
   "display_name": "Python 3 (ipykernel)",
   "language": "python",
   "name": "python3"
  },
  "language_info": {
   "codemirror_mode": {
    "name": "ipython",
    "version": 3
   },
   "file_extension": ".py",
   "mimetype": "text/x-python",
   "name": "python",
   "nbconvert_exporter": "python",
   "pygments_lexer": "ipython3",
   "version": "3.11.3"
  }
 },
 "nbformat": 4,
 "nbformat_minor": 5
}

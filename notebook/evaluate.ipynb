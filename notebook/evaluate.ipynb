{
 "cells": [
  {
   "cell_type": "code",
   "execution_count": 1,
   "metadata": {
    "ExecuteTime": {
     "end_time": "2024-01-24T08:09:21.924302445Z",
     "start_time": "2024-01-24T08:09:21.847513205Z"
    }
   },
   "outputs": [],
   "source": [
    "import json\n",
    "import requests\n",
    "import time"
   ]
  },
  {
   "cell_type": "code",
   "execution_count": 2,
   "metadata": {
    "ExecuteTime": {
     "end_time": "2024-01-24T08:09:25.358896083Z",
     "start_time": "2024-01-24T08:09:21.921381023Z"
    }
   },
   "outputs": [],
   "source": [
    "project = input(\"Enter project: \")"
   ]
  },
  {
   "cell_type": "code",
   "execution_count": 3,
   "metadata": {
    "ExecuteTime": {
     "end_time": "2024-01-24T08:09:25.359232250Z",
     "start_time": "2024-01-24T08:09:25.323568876Z"
    }
   },
   "outputs": [],
   "source": [
    "with open(f\"../data/transcript_{project}.json\", 'r', encoding='utf-8') as f:\n",
    "    data = json.load(f)"
   ]
  },
  {
   "cell_type": "code",
   "execution_count": 4,
   "metadata": {
    "ExecuteTime": {
     "end_time": "2024-01-24T08:09:25.359780857Z",
     "start_time": "2024-01-24T08:09:25.324206035Z"
    }
   },
   "outputs": [],
   "source": [
    "project_info = json.load(open(f\"../project_info/{project}.json\", encoding=\"utf-8\"))[\"project_info\"]"
   ]
  },
  {
   "cell_type": "code",
   "execution_count": 5,
   "metadata": {
    "ExecuteTime": {
     "end_time": "2024-01-24T08:09:25.360177470Z",
     "start_time": "2024-01-24T08:09:25.324706890Z"
    }
   },
   "outputs": [],
   "source": [
    "criteria_names = [i for i in project_info]\n",
    "project_info_eval = {}\n",
    "for criteria in criteria_names:\n",
    "    project_info_eval.update({criteria: project_info[criteria]})"
   ]
  },
  {
   "cell_type": "code",
   "execution_count": 6,
   "metadata": {
    "ExecuteTime": {
     "end_time": "2024-01-24T08:09:25.360598226Z",
     "start_time": "2024-01-24T08:09:25.325169449Z"
    }
   },
   "outputs": [],
   "source": [
    "endpoint = \"http://103.176.146.250:5005\" # môi trường nlp"
   ]
  },
  {
   "cell_type": "code",
   "execution_count": 7,
   "metadata": {
    "ExecuteTime": {
     "end_time": "2024-01-24T08:09:25.383183296Z",
     "start_time": "2024-01-24T08:09:25.364684643Z"
    }
   },
   "outputs": [],
   "source": [
    "url = f\"{endpoint}/predict/dialogue/test\""
   ]
  },
  {
   "cell_type": "code",
   "execution_count": 8,
   "metadata": {
    "ExecuteTime": {
     "end_time": "2024-01-24T08:09:25.395248151Z",
     "start_time": "2024-01-24T08:09:25.365038186Z"
    }
   },
   "outputs": [],
   "source": [
    "metadata = {}\n",
    "response = []\n",
    "agentChannel = 2"
   ]
  },
  {
   "cell_type": "code",
   "execution_count": 9,
   "metadata": {
    "ExecuteTime": {
     "end_time": "2024-01-24T08:09:49.329887856Z",
     "start_time": "2024-01-24T08:09:25.365311855Z"
    }
   },
   "outputs": [],
   "source": [
    "for call in data:\n",
    "    headers = {\n",
    "        'Content-Type': 'application/json'\n",
    "    }\n",
    "    body = {\n",
    "        \"project_info\": project_info_eval,\n",
    "        \"transcript\": call['content'],\n",
    "        \"metadata\": metadata,\n",
    "        \"criteria\": criteria_names,\n",
    "        \"fileName\": call['name'],\n",
    "        \"agentChannel\": agentChannel\n",
    "    }\n",
    "    payload = json.dumps(body)  \n",
    "    result = requests.request(method=\"POST\", url=url, headers=headers, data=payload).json()\n",
    "    response.append(result)\n",
    "    time.sleep(0.4)"
   ]
  },
  {
   "cell_type": "code",
   "execution_count": 10,
   "metadata": {
    "ExecuteTime": {
     "end_time": "2024-01-24T08:09:49.347341396Z",
     "start_time": "2024-01-24T08:09:49.331190132Z"
    }
   },
   "outputs": [],
   "source": [
    "with open(f'../response/{project}_evaluate.json', 'w', encoding='utf-8') as json_file:\n",
    "    json.dump(response, json_file, ensure_ascii=False, indent=4)"
   ]
  }
 ],
 "metadata": {
  "kernelspec": {
   "display_name": "Python 3 (ipykernel)",
   "language": "python",
   "name": "python3"
  },
  "language_info": {
   "codemirror_mode": {
    "name": "ipython",
    "version": 3
   },
   "file_extension": ".py",
   "mimetype": "text/x-python",
   "name": "python",
   "nbconvert_exporter": "python",
   "pygments_lexer": "ipython3",
   "version": "3.9.18"
  }
 },
 "nbformat": 4,
 "nbformat_minor": 4
}

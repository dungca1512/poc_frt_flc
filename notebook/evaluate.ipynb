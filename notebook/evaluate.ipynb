{
 "cells": [
  {
   "cell_type": "code",
   "execution_count": 11,
   "metadata": {},
   "outputs": [],
   "source": [
    "import json\n",
    "import requests\n",
    "import time"
   ]
  },
  {
   "cell_type": "code",
   "execution_count": 12,
   "metadata": {},
   "outputs": [],
   "source": [
    "with open('../json/data/dataM3_400call.json', 'r', encoding='utf-8') as f:\n",
    "    data = json.load(f)"
   ]
  },
  {
   "cell_type": "code",
   "execution_count": 13,
   "metadata": {},
   "outputs": [],
   "source": [
    "project_info_m3 = json.load(open('../json/project_info/m3_project_info_nlp.json', 'r', encoding='utf-8'))['project_info']\n",
    "criteria_names = [i for i in project_info_m3]"
   ]
  },
  {
   "cell_type": "code",
   "execution_count": 14,
   "metadata": {},
   "outputs": [],
   "source": [
    "project_info = {}\n",
    "for criteria in criteria_names:\n",
    "    project_info.update({criteria: project_info_m3[criteria]})"
   ]
  },
  {
   "cell_type": "code",
   "execution_count": 15,
   "metadata": {},
   "outputs": [],
   "source": [
    "project_info_oh = {}\n",
    "\n",
    "criteria_oh = ['oh2']\n",
    "for oh in criteria_oh:\n",
    "    project_info_oh.update({oh: project_info[oh]})"
   ]
  },
  {
   "cell_type": "code",
   "execution_count": 16,
   "metadata": {},
   "outputs": [],
   "source": [
    "endpoint = \"http://103.176.146.250:5005\" # môi trường nlp\n",
    "# endpoint = \"https://cqe-dev-nlp.fpt.ai/dme\" # môi trường dev"
   ]
  },
  {
   "cell_type": "code",
   "execution_count": 17,
   "metadata": {},
   "outputs": [],
   "source": [
    "url = f\"{endpoint}/predict/dialogue/test\""
   ]
  },
  {
   "cell_type": "code",
   "execution_count": 18,
   "metadata": {},
   "outputs": [],
   "source": [
    "metadata = {}\n",
    "response = []\n",
    "agentChannel = 1"
   ]
  },
  {
   "cell_type": "code",
   "execution_count": 19,
   "metadata": {},
   "outputs": [],
   "source": [
    "for call in data:\n",
    "    headers = {\n",
    "        'Content-Type': 'application/json'\n",
    "    }\n",
    "    body = {\n",
    "        \"project_info\": project_info_oh,\n",
    "        \"transcript\": call['content'],\n",
    "        \"metadata\": metadata,\n",
    "        \"criteria\": criteria_oh,\n",
    "        \"fileName\": call['fileName'],\n",
    "        \"agentChannel\": agentChannel\n",
    "    }\n",
    "    payload = json.dumps(body)  \n",
    "    result = requests.request(\"POST\", url=url, headers=headers, data=payload).json()\n",
    "    response.append(result)\n",
    "    time.sleep(0.5)"
   ]
  },
  {
   "cell_type": "code",
   "execution_count": 20,
   "metadata": {},
   "outputs": [],
   "source": [
    "with open('../json/response/evaluate_m3_400call_nlp.json', 'w', encoding='utf-8') as json_file:\n",
    "    json.dump(response, json_file, ensure_ascii=False, indent=4)"
   ]
  }
 ],
 "metadata": {
  "kernelspec": {
   "display_name": "dungca4",
   "language": "python",
   "name": "python3"
  },
  "language_info": {
   "codemirror_mode": {
    "name": "ipython",
    "version": 3
   },
   "file_extension": ".py",
   "mimetype": "text/x-python",
   "name": "python",
   "nbconvert_exporter": "python",
   "pygments_lexer": "ipython3",
   "version": "3.11.4"
  },
  "orig_nbformat": 4
 },
 "nbformat": 4,
 "nbformat_minor": 2
}

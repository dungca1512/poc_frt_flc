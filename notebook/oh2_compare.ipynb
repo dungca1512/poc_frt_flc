{
 "cells": [
  {
   "cell_type": "code",
   "execution_count": 28,
   "metadata": {},
   "outputs": [],
   "source": [
    "import json\n",
    "import pandas as pd"
   ]
  },
  {
   "cell_type": "code",
   "execution_count": 29,
   "metadata": {},
   "outputs": [],
   "source": [
    "state = input(\"Nhập môi trường: \")"
   ]
  },
  {
   "cell_type": "code",
   "execution_count": 30,
   "metadata": {},
   "outputs": [],
   "source": [
    "with open(f\"../json/response/response_processed_{state}.json\", \"r\") as f:\n",
    "    response_test = json.load(f)\n",
    "    \n",
    "with open(\"../json/response/response_processed.json\", \"r\") as f:\n",
    "    predictions_before = json.load(f)\n",
    "    \n",
    "with open(\"../json/response/oh2_labels.json\", \"r\") as f:\n",
    "    labels = json.load(f)"
   ]
  },
  {
   "cell_type": "code",
   "execution_count": 31,
   "metadata": {},
   "outputs": [],
   "source": [
    "def oh2_postprocess(response):  \n",
    "    entities_needed = [\"payment_datetime\", \"amount\", \"oh_solution\", \"motivation_title\"]\n",
    "    re = {}\n",
    "    for call_name in response:\n",
    "        count = 0\n",
    "        response_i = response[call_name]\n",
    "        slots = response_i[\"slots\"]\n",
    "        \n",
    "        for entity in entities_needed:\n",
    "            if entity in slots: count += 1\n",
    "            \n",
    "        if count == 4: result = \"Yes\"\n",
    "        else: result = \"No\"\n",
    "        \n",
    "        re[call_name] = result\n",
    "\n",
    "    return re"
   ]
  },
  {
   "cell_type": "code",
   "execution_count": 32,
   "metadata": {},
   "outputs": [],
   "source": [
    "predictions_after = oh2_postprocess(response_test)"
   ]
  },
  {
   "cell_type": "code",
   "execution_count": 33,
   "metadata": {},
   "outputs": [],
   "source": [
    "df_call_improved = pd.DataFrame({'Name': [], 'Label': [], 'Prediction before': [], 'Prediction after': []})\n",
    "df_call_lost = pd.DataFrame({'Name': [], 'Label': [], 'Prediction before': [], 'Prediction after': []})"
   ]
  },
  {
   "cell_type": "code",
   "execution_count": 34,
   "metadata": {},
   "outputs": [],
   "source": [
    "before_acc = 0\n",
    "after_acc = 0\n",
    "call_lost = []\n",
    "call_improved = []\n",
    "n = len(labels)\n",
    "\n",
    "for call_name in labels:\n",
    "    label = labels[call_name]\n",
    "    \n",
    "    if label == predictions_before[call_name]: \n",
    "        before_acc += 1\n",
    "    if label == predictions_after[call_name]: \n",
    "        after_acc += 1\n",
    "    \n",
    "    if label != predictions_before[call_name] and label == predictions_after[call_name]:\n",
    "        new_record = {'Name': call_name, 'Label': label, 'Prediction before': predictions_before[call_name], 'Prediction after': predictions_after[call_name]}\n",
    "        df_call_improved.loc[len(df_call_improved)] = new_record\n",
    "        call_improved.append(call_name)\n",
    "    elif label == predictions_before[call_name] and label != predictions_after[call_name]: \n",
    "        new_record = {'Name': call_name, 'Label': label, 'Prediction before': predictions_before[call_name], 'Prediction after': predictions_after[call_name]}\n",
    "        df_call_lost.loc[len(df_call_lost)] = new_record\n",
    "        call_lost.append(call_name)"
   ]
  },
  {
   "cell_type": "code",
   "execution_count": 35,
   "metadata": {},
   "outputs": [
    {
     "name": "stdout",
     "output_type": "stream",
     "text": [
      "Accuracy Before: 0.8625\n",
      "Accuracy After: 0.8825\n",
      "Number of Call Lost: 39\n",
      "Number of Call Improved: 47\n"
     ]
    }
   ],
   "source": [
    "print(\"Accuracy Before:\", before_acc/n)\n",
    "print(\"Accuracy After:\", after_acc/n)\n",
    "print(\"Number of Call Lost:\", len(call_lost))\n",
    "print(\"Number of Call Improved:\", len(call_improved))"
   ]
  },
  {
   "cell_type": "markdown",
   "metadata": {},
   "source": [
    "- Không nên thêm step đấy vào vì có thể nó làm acc tổng thể bị giảm"
   ]
  },
  {
   "cell_type": "code",
   "execution_count": 36,
   "metadata": {},
   "outputs": [],
   "source": [
    "with open('../csv/test/call_improved.csv', 'w', encoding='utf-8') as f:\n",
    "    df_call_improved.to_csv(f, index=False)\n",
    "\n",
    "with open('../csv/test/call_lost.csv', 'w', encoding='utf-8') as f:\n",
    "    df_call_lost.to_csv(f, index=False)"
   ]
  }
 ],
 "metadata": {
  "kernelspec": {
   "display_name": "dungca4",
   "language": "python",
   "name": "python3"
  },
  "language_info": {
   "codemirror_mode": {
    "name": "ipython",
    "version": 3
   },
   "file_extension": ".py",
   "mimetype": "text/x-python",
   "name": "python",
   "nbconvert_exporter": "python",
   "pygments_lexer": "ipython3",
   "version": "3.11.4"
  },
  "orig_nbformat": 4
 },
 "nbformat": 4,
 "nbformat_minor": 2
}

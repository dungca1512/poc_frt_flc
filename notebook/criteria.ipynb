{
 "cells": [
  {
   "cell_type": "code",
   "execution_count": 1,
   "metadata": {},
   "outputs": [],
   "source": [
    "import json"
   ]
  },
  {
   "cell_type": "code",
   "execution_count": 3,
   "metadata": {},
   "outputs": [
    {
     "name": "stdout",
     "output_type": "stream",
     "text": [
      "{\n",
      "  \"task\": \"compare\",\n",
      "  \"agent\": {\n",
      "    \"m3SumOH\": {\n",
      "      \"intents\": {\n",
      "        \"willpay_summary\": \"required\"\n",
      "      },\n",
      "      \"entities\": {\n",
      "        \"amount\": \"required\",\n",
      "        \"bring_contract_code\": \"required\",\n",
      "        \"motivation_result\": \"required\",\n",
      "        \"motivation_title\": \"required\",\n",
      "        \"payment_datetime\": \"required\",\n",
      "        \"payment_method\": \"required\"\n",
      "      },\n",
      "      \"threshold\": 0.8\n",
      "    }\n",
      "  },\n",
      "  \"customer\": {},\n",
      "  \"decision\": [\n",
      "    {\n",
      "      \"steps\": [\n",
      "        {\n",
      "          \"channel\": \"agent\",\n",
      "          \"entities_logic\": \"or\",\n",
      "          \"entities\": [],\n",
      "          \"intent\": \"willpay_summary\",\n",
      "          \"lookup\": {\n",
      "            \"endEntities\": [\n",
      "              \"motivation_title\"\n",
      "            ],\n",
      "            \"endIntent\": null,\n",
      "            \"getCondition\": true,\n",
      "            \"n_lookup\": 4\n",
      "          },\n",
      "          \"getFirst\": true,\n",
      "          \"next_side\": false,\n",
      "          \"except_entities\": []\n",
      "        }\n",
      "      ],\n",
      "      \"title\": \"yes\",\n",
      "      \"approach\": \"top_down\"\n",
      "    }\n",
      "  ],\n",
      "  \"start_turn\": 0,\n",
      "  \"zone\": [\n",
      "    -8,\n",
      "    null\n",
      "  ],\n",
      "  \"merge_turn\": false,\n",
      "  \"default_decision\": \"no\",\n",
      "  \"description\": \"[testing] summary call of willpay case\",\n",
      "  \"version\": \"DEV\"\n",
      "}\n"
     ]
    }
   ],
   "source": [
    "with open(\"m3_project_info.json\", \"r\") as f:\n",
    "    file = json.load(f)\n",
    "project_info = file[\"project_info\"]\n",
    "\n",
    "criteria_name = \"m3_willpaySummary\"\n",
    "criteria_info = project_info[criteria_name]\n",
    "\n",
    "# askPaymentDatetime = json.dumps(criteria_info[\"decision\"], indent = 2)\n",
    "askPaymentDatetime = json.dumps(criteria_info, indent = 2)\n",
    "\n",
    "print(askPaymentDatetime)"
   ]
  }
 ],
 "metadata": {
  "kernelspec": {
   "display_name": "Python 3 (ipykernel)",
   "language": "python",
   "name": "python3"
  },
  "language_info": {
   "codemirror_mode": {
    "name": "ipython",
    "version": 3
   },
   "file_extension": ".py",
   "mimetype": "text/x-python",
   "name": "python",
   "nbconvert_exporter": "python",
   "pygments_lexer": "ipython3",
   "version": "3.11.3"
  }
 },
 "nbformat": 4,
 "nbformat_minor": 4
}

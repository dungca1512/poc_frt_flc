{
 "cells": [
  {
   "cell_type": "code",
   "execution_count": 1,
   "metadata": {},
   "outputs": [],
   "source": [
    "import pandas as pd\n",
    "import numpy as np\n",
    "from sklearn.metrics import confusion_matrix, accuracy_score, recall_score, f1_score"
   ]
  },
  {
   "cell_type": "code",
   "execution_count": 2,
   "metadata": {},
   "outputs": [],
   "source": [
    "# Đọc dữ liệu từ tệp Excel\n",
    "data = pd.read_excel('test_local_oh_m3.xlsx')"
   ]
  },
  {
   "cell_type": "code",
   "execution_count": 3,
   "metadata": {},
   "outputs": [],
   "source": [
    "# Giả sử cột 'expected' chứa nhãn thực tế và cột 'prediction' chứa nhãn dự đoán\n",
    "expected = data['Expected Result']\n",
    "prediction = data['Actual Result']"
   ]
  },
  {
   "cell_type": "code",
   "execution_count": 4,
   "metadata": {},
   "outputs": [],
   "source": [
    "# Tạo confusion matrix\n",
    "cm = confusion_matrix(expected, prediction)"
   ]
  },
  {
   "cell_type": "code",
   "execution_count": 5,
   "metadata": {},
   "outputs": [],
   "source": [
    "# Đánh nhãn cho cột và hàng\n",
    "labels = np.unique(np.concatenate((expected, prediction)))\n",
    "confusion_matrix_df = pd.DataFrame(cm, index=labels, columns=labels)"
   ]
  },
  {
   "cell_type": "code",
   "execution_count": 6,
   "metadata": {},
   "outputs": [
    {
     "name": "stdout",
     "output_type": "stream",
     "text": [
      "Confusion Matrix:\n",
      "           No  Partially  UN  Yes\n",
      "No         23          9   1    5\n",
      "Partially  12         20   2   15\n",
      "UN          8          1  91    0\n",
      "Yes        20         20  11   62\n"
     ]
    }
   ],
   "source": [
    "print(\"Confusion Matrix:\")\n",
    "print(confusion_matrix_df)"
   ]
  },
  {
   "cell_type": "code",
   "execution_count": 10,
   "metadata": {},
   "outputs": [
    {
     "name": "stdout",
     "output_type": "stream",
     "text": [
      "Accuracy: 65.33%\n"
     ]
    }
   ],
   "source": [
    "# Tính accuracy\n",
    "accuracy = round(accuracy_score(expected, prediction) * 100, 2)\n",
    "print(f\"Accuracy: {accuracy}%\")"
   ]
  },
  {
   "cell_type": "code",
   "execution_count": 11,
   "metadata": {},
   "outputs": [
    {
     "name": "stdout",
     "output_type": "stream",
     "text": [
      "Recall: 61.8%\n"
     ]
    }
   ],
   "source": [
    "# Tính recall\n",
    "recall = round(recall_score(expected, prediction, average='macro', zero_division=1) * 100, 2)\n",
    "print(f\"Recall: {recall}%\")"
   ]
  },
  {
   "cell_type": "code",
   "execution_count": 12,
   "metadata": {},
   "outputs": [
    {
     "name": "stdout",
     "output_type": "stream",
     "text": [
      "F1-score: 59.58%\n"
     ]
    }
   ],
   "source": [
    "f1 = round(f1_score(expected, prediction, average='macro', zero_division=1) * 100, 2)\n",
    "print(f\"F1-score: {f1}%\")"
   ]
  }
 ],
 "metadata": {
  "kernelspec": {
   "display_name": "Python 3 (ipykernel)",
   "language": "python",
   "name": "python3"
  },
  "language_info": {
   "codemirror_mode": {
    "name": "ipython",
    "version": 3
   },
   "file_extension": ".py",
   "mimetype": "text/x-python",
   "name": "python",
   "nbconvert_exporter": "python",
   "pygments_lexer": "ipython3",
   "version": "3.11.3"
  }
 },
 "nbformat": 4,
 "nbformat_minor": 4
}

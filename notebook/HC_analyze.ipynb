{
 "cells": [
  {
   "cell_type": "code",
   "execution_count": 1,
   "id": "575951fd",
   "metadata": {},
   "outputs": [],
   "source": [
    "import pandas as pd\n",
    "import requests\n",
    "import json\n",
    "from tqdm import tqdm\n",
    "import numpy as np\n",
    "import time\n",
    "tqdm.pandas()"
   ]
  },
  {
   "cell_type": "code",
   "execution_count": 2,
   "id": "e8fa9f6a",
   "metadata": {},
   "outputs": [],
   "source": [
    "state = input(\"Nhập môi trường: \")"
   ]
  },
  {
   "cell_type": "code",
   "execution_count": 3,
   "id": "04172f88",
   "metadata": {},
   "outputs": [],
   "source": [
    "project_info = json.load(open(f\"../json/project_info/m3_project_info_{state}.json\", encoding=\"utf-8\"))[\"project_info\"]"
   ]
  },
  {
   "cell_type": "code",
   "execution_count": 4,
   "id": "5c77dedd",
   "metadata": {},
   "outputs": [],
   "source": [
    "criteria_name = [i for i in project_info]"
   ]
  },
  {
   "cell_type": "code",
   "execution_count": 6,
   "id": "4239b26c",
   "metadata": {},
   "outputs": [],
   "source": [
    "with open('../json/content/transcriptM3.json', 'r', encoding=\"utf-8\") as file:\n",
    "    files = json.load(file)"
   ]
  },
  {
   "cell_type": "code",
   "execution_count": 7,
   "id": "88aed12d",
   "metadata": {},
   "outputs": [],
   "source": [
    "url = \"http://103.176.146.250:5005/predict/dialogue/raw\""
   ]
  },
  {
   "cell_type": "code",
   "execution_count": 8,
   "id": "09c80f1a",
   "metadata": {},
   "outputs": [],
   "source": [
    "response = []\n",
    "for file in files:\n",
    "  header = {\n",
    "  'Content-Type': 'application/json'\n",
    "  }\n",
    "  body = {\n",
    "  \"project_id\": \"hc_clx_m3\",\n",
    "  \"fileName\": file[\"fileName\"],\n",
    "  \"agentChannel\": 1, \n",
    "  \"criteria\": criteria_name,\n",
    "  \"transcript\": file[\"content\"],\n",
    "  \"metadata\": {}\n",
    "  }\n",
    "  payload = json.dumps(body)  \n",
    "  result = requests.request(\"POST\", url=url, headers=header, data=payload).json()\n",
    "  response.append(result)\n",
    "  time.sleep(0.4)"
   ]
  },
  {
   "cell_type": "code",
   "execution_count": 9,
   "id": "d3d75f25",
   "metadata": {},
   "outputs": [],
   "source": [
    "with open(f'../json/response/nlp_response_m3_{state}.json', 'w', encoding='utf-8') as json_file:\n",
    "    json.dump(response, json_file, ensure_ascii=False, indent=4)"
   ]
  }
 ],
 "metadata": {
  "kernelspec": {
   "display_name": "Python 3 (ipykernel)",
   "language": "python",
   "name": "python3"
  },
  "language_info": {
   "codemirror_mode": {
    "name": "ipython",
    "version": 3
   },
   "file_extension": ".py",
   "mimetype": "text/x-python",
   "name": "python",
   "nbconvert_exporter": "python",
   "pygments_lexer": "ipython3",
   "version": "3.11.4"
  }
 },
 "nbformat": 4,
 "nbformat_minor": 5
}

{
 "cells": [
  {
   "cell_type": "code",
   "execution_count": 152,
   "metadata": {},
   "outputs": [],
   "source": [
    "import json\n",
    "import pandas as pd"
   ]
  },
  {
   "cell_type": "code",
   "execution_count": 153,
   "metadata": {},
   "outputs": [],
   "source": [
    "with open('../csv/20230915_034543.csv', 'r', encoding='utf-8') as f:\n",
    "    report = pd.read_csv(f)"
   ]
  },
  {
   "cell_type": "code",
   "execution_count": 154,
   "metadata": {},
   "outputs": [],
   "source": [
    "with open('../json/response/response_processed.json', 'r', encoding='utf-8') as f:\n",
    "    response = json.load(f)"
   ]
  },
  {
   "cell_type": "code",
   "execution_count": 155,
   "metadata": {},
   "outputs": [],
   "source": [
    "compare = []"
   ]
  },
  {
   "cell_type": "code",
   "execution_count": 156,
   "metadata": {},
   "outputs": [],
   "source": [
    "criterias = ['oh_solution', 'motivation_title', 'motivation_result', 'payment_datetime', 'amount']"
   ]
  },
  {
   "cell_type": "code",
   "execution_count": 157,
   "metadata": {},
   "outputs": [],
   "source": [
    "def evaluate(response, criterias):\n",
    "    for call in response:\n",
    "        count = 0\n",
    "        if response[call]['name'] != 'oh1':\n",
    "            result = \"No\"\n",
    "        for criteria in criterias:\n",
    "            if criteria in response[call]['slots']:\n",
    "                count += 1\n",
    "        if count == 5:\n",
    "            result = \"Yes\"\n",
    "        else:\n",
    "            result = \"No\"\n",
    "        if response[call]['slots'] == []:\n",
    "            result = \"No\"\n",
    "        compare.append({call: result})\n",
    "    return compare"
   ]
  },
  {
   "cell_type": "code",
   "execution_count": 158,
   "metadata": {},
   "outputs": [],
   "source": [
    "with open('../json/response/response_oh2.json', 'w', encoding='utf-8') as f:\n",
    "    response = json.dump(evaluate(response, criterias), f, ensure_ascii=False, indent=4)"
   ]
  }
 ],
 "metadata": {
  "kernelspec": {
   "display_name": "dungca4",
   "language": "python",
   "name": "python3"
  },
  "language_info": {
   "codemirror_mode": {
    "name": "ipython",
    "version": 3
   },
   "file_extension": ".py",
   "mimetype": "text/x-python",
   "name": "python",
   "nbconvert_exporter": "python",
   "pygments_lexer": "ipython3",
   "version": "3.11.4"
  },
  "orig_nbformat": 4
 },
 "nbformat": 4,
 "nbformat_minor": 2
}

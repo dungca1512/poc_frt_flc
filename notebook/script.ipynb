{
 "cells": [
  {
   "cell_type": "code",
   "execution_count": 70,
   "metadata": {},
   "outputs": [],
   "source": [
    "import pandas as pd\n",
    "import numpy as np\n",
    "from sklearn.metrics import confusion_matrix, accuracy_score, recall_score, f1_score"
   ]
  },
  {
   "cell_type": "code",
   "execution_count": 71,
   "metadata": {},
   "outputs": [],
   "source": [
    "# Đọc dữ liệu từ tệp CSV\n",
    "data = pd.read_excel('../excel/callResultAI.xlsx')"
   ]
  },
  {
   "cell_type": "code",
   "execution_count": 72,
   "metadata": {},
   "outputs": [],
   "source": [
    "data.to_csv('../csv/compare_callResultAI.csv', index=False, encoding='utf-8-sig')"
   ]
  },
  {
   "cell_type": "code",
   "execution_count": 73,
   "metadata": {},
   "outputs": [
    {
     "data": {
      "text/html": [
       "<div>\n",
       "<style scoped>\n",
       "    .dataframe tbody tr th:only-of-type {\n",
       "        vertical-align: middle;\n",
       "    }\n",
       "\n",
       "    .dataframe tbody tr th {\n",
       "        vertical-align: top;\n",
       "    }\n",
       "\n",
       "    .dataframe thead th {\n",
       "        text-align: right;\n",
       "    }\n",
       "</style>\n",
       "<table border=\"1\" class=\"dataframe\">\n",
       "  <thead>\n",
       "    <tr style=\"text-align: right;\">\n",
       "      <th></th>\n",
       "      <th>name</th>\n",
       "      <th>agentChannel</th>\n",
       "      <th>callResultAI</th>\n",
       "      <th>audit_result</th>\n",
       "    </tr>\n",
       "  </thead>\n",
       "  <tbody>\n",
       "    <tr>\n",
       "      <th>0</th>\n",
       "      <td>1684482083958_3770_810983451276_516462765.mp3</td>\n",
       "      <td>1</td>\n",
       "      <td>nopay</td>\n",
       "      <td>Nopay</td>\n",
       "    </tr>\n",
       "    <tr>\n",
       "      <th>1</th>\n",
       "      <td>1684482109334_3771_810932104194_516462776.mp3</td>\n",
       "      <td>1</td>\n",
       "      <td>nopay</td>\n",
       "      <td>Call không hợp tác</td>\n",
       "    </tr>\n",
       "    <tr>\n",
       "      <th>2</th>\n",
       "      <td>1684484668825_3776_810365496726_516470077.mp3</td>\n",
       "      <td>1</td>\n",
       "      <td>nopay</td>\n",
       "      <td>Undefined</td>\n",
       "    </tr>\n",
       "    <tr>\n",
       "      <th>3</th>\n",
       "      <td>1684484804994_3753_810989015916_516470478.mp3</td>\n",
       "      <td>1</td>\n",
       "      <td>willpay</td>\n",
       "      <td>Willpay</td>\n",
       "    </tr>\n",
       "    <tr>\n",
       "      <th>4</th>\n",
       "      <td>1684485272349_3648_810939424196_516471469.mp3</td>\n",
       "      <td>1</td>\n",
       "      <td>undefined</td>\n",
       "      <td>Undefined</td>\n",
       "    </tr>\n",
       "    <tr>\n",
       "      <th>...</th>\n",
       "      <td>...</td>\n",
       "      <td>...</td>\n",
       "      <td>...</td>\n",
       "      <td>...</td>\n",
       "    </tr>\n",
       "    <tr>\n",
       "      <th>295</th>\n",
       "      <td>1686275888826_3729_810973322412_519911491.mp3</td>\n",
       "      <td>1</td>\n",
       "      <td>undefined</td>\n",
       "      <td>Call im lặng, Unidentified person (RPC)</td>\n",
       "    </tr>\n",
       "    <tr>\n",
       "      <th>296</th>\n",
       "      <td>1686276029433_3734_810981456551_519912816.mp3</td>\n",
       "      <td>1</td>\n",
       "      <td>willpay</td>\n",
       "      <td>Willpay</td>\n",
       "    </tr>\n",
       "    <tr>\n",
       "      <th>297</th>\n",
       "      <td>1686279460634_3732_810909757150_519942265.mp3</td>\n",
       "      <td>1</td>\n",
       "      <td>willpay</td>\n",
       "      <td>Willpay</td>\n",
       "    </tr>\n",
       "    <tr>\n",
       "      <th>298</th>\n",
       "      <td>1686285301787_3769_810337445113_519982400.mp3</td>\n",
       "      <td>1</td>\n",
       "      <td>nopay</td>\n",
       "      <td>Nopay</td>\n",
       "    </tr>\n",
       "    <tr>\n",
       "      <th>299</th>\n",
       "      <td>1686296155875_3755_810349533873_525039757.mp3</td>\n",
       "      <td>1</td>\n",
       "      <td>nopay</td>\n",
       "      <td>Nopay</td>\n",
       "    </tr>\n",
       "  </tbody>\n",
       "</table>\n",
       "<p>300 rows × 4 columns</p>\n",
       "</div>"
      ],
      "text/plain": [
       "                                              name  agentChannel callResultAI   \n",
       "0    1684482083958_3770_810983451276_516462765.mp3             1        nopay  \\\n",
       "1    1684482109334_3771_810932104194_516462776.mp3             1        nopay   \n",
       "2    1684484668825_3776_810365496726_516470077.mp3             1        nopay   \n",
       "3    1684484804994_3753_810989015916_516470478.mp3             1      willpay   \n",
       "4    1684485272349_3648_810939424196_516471469.mp3             1    undefined   \n",
       "..                                             ...           ...          ...   \n",
       "295  1686275888826_3729_810973322412_519911491.mp3             1    undefined   \n",
       "296  1686276029433_3734_810981456551_519912816.mp3             1      willpay   \n",
       "297  1686279460634_3732_810909757150_519942265.mp3             1      willpay   \n",
       "298  1686285301787_3769_810337445113_519982400.mp3             1        nopay   \n",
       "299  1686296155875_3755_810349533873_525039757.mp3             1        nopay   \n",
       "\n",
       "                                audit_result  \n",
       "0                                      Nopay  \n",
       "1                         Call không hợp tác  \n",
       "2                                  Undefined  \n",
       "3                                    Willpay  \n",
       "4                                  Undefined  \n",
       "..                                       ...  \n",
       "295  Call im lặng, Unidentified person (RPC)  \n",
       "296                                  Willpay  \n",
       "297                                  Willpay  \n",
       "298                                    Nopay  \n",
       "299                                    Nopay  \n",
       "\n",
       "[300 rows x 4 columns]"
      ]
     },
     "execution_count": 73,
     "metadata": {},
     "output_type": "execute_result"
    }
   ],
   "source": [
    "df = pd.read_csv('../csv/compare_callResultAI.csv')\n",
    "df"
   ]
  },
  {
   "cell_type": "code",
   "execution_count": 74,
   "metadata": {},
   "outputs": [],
   "source": [
    "df['audit_result'] = df['audit_result'].replace('Willpay', 'willpay')\n",
    "df['audit_result'] = df['audit_result'].replace('Nopay', 'nopay')"
   ]
  },
  {
   "cell_type": "code",
   "execution_count": 75,
   "metadata": {},
   "outputs": [
    {
     "data": {
      "text/html": [
       "<div>\n",
       "<style scoped>\n",
       "    .dataframe tbody tr th:only-of-type {\n",
       "        vertical-align: middle;\n",
       "    }\n",
       "\n",
       "    .dataframe tbody tr th {\n",
       "        vertical-align: top;\n",
       "    }\n",
       "\n",
       "    .dataframe thead th {\n",
       "        text-align: right;\n",
       "    }\n",
       "</style>\n",
       "<table border=\"1\" class=\"dataframe\">\n",
       "  <thead>\n",
       "    <tr style=\"text-align: right;\">\n",
       "      <th></th>\n",
       "      <th>name</th>\n",
       "      <th>agentChannel</th>\n",
       "      <th>callResultAI</th>\n",
       "      <th>audit_result</th>\n",
       "    </tr>\n",
       "  </thead>\n",
       "  <tbody>\n",
       "    <tr>\n",
       "      <th>0</th>\n",
       "      <td>1684482083958_3770_810983451276_516462765.mp3</td>\n",
       "      <td>1</td>\n",
       "      <td>nopay</td>\n",
       "      <td>nopay</td>\n",
       "    </tr>\n",
       "    <tr>\n",
       "      <th>1</th>\n",
       "      <td>1684482109334_3771_810932104194_516462776.mp3</td>\n",
       "      <td>1</td>\n",
       "      <td>nopay</td>\n",
       "      <td>undefined</td>\n",
       "    </tr>\n",
       "    <tr>\n",
       "      <th>2</th>\n",
       "      <td>1684484668825_3776_810365496726_516470077.mp3</td>\n",
       "      <td>1</td>\n",
       "      <td>nopay</td>\n",
       "      <td>undefined</td>\n",
       "    </tr>\n",
       "    <tr>\n",
       "      <th>3</th>\n",
       "      <td>1684484804994_3753_810989015916_516470478.mp3</td>\n",
       "      <td>1</td>\n",
       "      <td>willpay</td>\n",
       "      <td>willpay</td>\n",
       "    </tr>\n",
       "    <tr>\n",
       "      <th>4</th>\n",
       "      <td>1684485272349_3648_810939424196_516471469.mp3</td>\n",
       "      <td>1</td>\n",
       "      <td>undefined</td>\n",
       "      <td>undefined</td>\n",
       "    </tr>\n",
       "    <tr>\n",
       "      <th>...</th>\n",
       "      <td>...</td>\n",
       "      <td>...</td>\n",
       "      <td>...</td>\n",
       "      <td>...</td>\n",
       "    </tr>\n",
       "    <tr>\n",
       "      <th>295</th>\n",
       "      <td>1686275888826_3729_810973322412_519911491.mp3</td>\n",
       "      <td>1</td>\n",
       "      <td>undefined</td>\n",
       "      <td>undefined</td>\n",
       "    </tr>\n",
       "    <tr>\n",
       "      <th>296</th>\n",
       "      <td>1686276029433_3734_810981456551_519912816.mp3</td>\n",
       "      <td>1</td>\n",
       "      <td>willpay</td>\n",
       "      <td>willpay</td>\n",
       "    </tr>\n",
       "    <tr>\n",
       "      <th>297</th>\n",
       "      <td>1686279460634_3732_810909757150_519942265.mp3</td>\n",
       "      <td>1</td>\n",
       "      <td>willpay</td>\n",
       "      <td>willpay</td>\n",
       "    </tr>\n",
       "    <tr>\n",
       "      <th>298</th>\n",
       "      <td>1686285301787_3769_810337445113_519982400.mp3</td>\n",
       "      <td>1</td>\n",
       "      <td>nopay</td>\n",
       "      <td>nopay</td>\n",
       "    </tr>\n",
       "    <tr>\n",
       "      <th>299</th>\n",
       "      <td>1686296155875_3755_810349533873_525039757.mp3</td>\n",
       "      <td>1</td>\n",
       "      <td>nopay</td>\n",
       "      <td>nopay</td>\n",
       "    </tr>\n",
       "  </tbody>\n",
       "</table>\n",
       "<p>300 rows × 4 columns</p>\n",
       "</div>"
      ],
      "text/plain": [
       "                                              name  agentChannel callResultAI   \n",
       "0    1684482083958_3770_810983451276_516462765.mp3             1        nopay  \\\n",
       "1    1684482109334_3771_810932104194_516462776.mp3             1        nopay   \n",
       "2    1684484668825_3776_810365496726_516470077.mp3             1        nopay   \n",
       "3    1684484804994_3753_810989015916_516470478.mp3             1      willpay   \n",
       "4    1684485272349_3648_810939424196_516471469.mp3             1    undefined   \n",
       "..                                             ...           ...          ...   \n",
       "295  1686275888826_3729_810973322412_519911491.mp3             1    undefined   \n",
       "296  1686276029433_3734_810981456551_519912816.mp3             1      willpay   \n",
       "297  1686279460634_3732_810909757150_519942265.mp3             1      willpay   \n",
       "298  1686285301787_3769_810337445113_519982400.mp3             1        nopay   \n",
       "299  1686296155875_3755_810349533873_525039757.mp3             1        nopay   \n",
       "\n",
       "    audit_result  \n",
       "0          nopay  \n",
       "1      undefined  \n",
       "2      undefined  \n",
       "3        willpay  \n",
       "4      undefined  \n",
       "..           ...  \n",
       "295    undefined  \n",
       "296      willpay  \n",
       "297      willpay  \n",
       "298        nopay  \n",
       "299        nopay  \n",
       "\n",
       "[300 rows x 4 columns]"
      ]
     },
     "execution_count": 75,
     "metadata": {},
     "output_type": "execute_result"
    }
   ],
   "source": [
    "df['audit_result'] = np.where((df['audit_result'] != \"willpay\") & (df['audit_result'] != 'nopay'), \"undefined\", df['audit_result'])\n",
    "df"
   ]
  },
  {
   "cell_type": "code",
   "execution_count": null,
   "metadata": {},
   "outputs": [],
   "source": [
    "df.to_csv('../csv/compare.csv', index=False, encoding='utf-8-sig')"
   ]
  },
  {
   "cell_type": "code",
   "execution_count": 76,
   "metadata": {},
   "outputs": [],
   "source": [
    "# Giả sử cột 'actual' chứa nhãn thực tế và cột 'predicted' chứa nhãn dự đoán\n",
    "prediction = df['callResultAI']\n",
    "expected = df['audit_result']"
   ]
  },
  {
   "cell_type": "code",
   "execution_count": 77,
   "metadata": {},
   "outputs": [],
   "source": [
    "# Tạo confusion matrix\n",
    "cm = confusion_matrix(expected, prediction)"
   ]
  },
  {
   "cell_type": "code",
   "execution_count": 78,
   "metadata": {},
   "outputs": [],
   "source": [
    "# Đánh nhãn cho cột và hàng\n",
    "labels = np.unique(np.concatenate((expected, prediction)))\n",
    "confusion_matrix_df = pd.DataFrame(cm, index=labels, columns=labels)"
   ]
  },
  {
   "cell_type": "code",
   "execution_count": 79,
   "metadata": {},
   "outputs": [
    {
     "name": "stdout",
     "output_type": "stream",
     "text": [
      "Confusion Matrix:\n",
      "           nopay  undefined  willpay\n",
      "nopay         53          0        4\n",
      "undefined     11         67        1\n",
      "willpay       17          0      147\n"
     ]
    }
   ],
   "source": [
    "print(\"Confusion Matrix:\")\n",
    "print(confusion_matrix_df)"
   ]
  },
  {
   "cell_type": "code",
   "execution_count": 80,
   "metadata": {},
   "outputs": [
    {
     "name": "stdout",
     "output_type": "stream",
     "text": [
      "Accuracy: 0.89\n"
     ]
    }
   ],
   "source": [
    "# Tính accuracy\n",
    "accuracy = accuracy_score(expected, prediction)\n",
    "print(\"Accuracy:\", accuracy)"
   ]
  },
  {
   "cell_type": "code",
   "execution_count": 81,
   "metadata": {},
   "outputs": [
    {
     "name": "stdout",
     "output_type": "stream",
     "text": [
      "Recall: 0.8914224302136425\n"
     ]
    }
   ],
   "source": [
    "# Tính recall\n",
    "recall = recall_score(expected, prediction, average='macro', zero_division=1)\n",
    "print(\"Recall:\", recall)"
   ]
  },
  {
   "cell_type": "code",
   "execution_count": 82,
   "metadata": {},
   "outputs": [
    {
     "name": "stdout",
     "output_type": "stream",
     "text": [
      "F1-score: 0.872101302680837\n"
     ]
    }
   ],
   "source": [
    "f1 = f1_score(expected, prediction, average='macro', zero_division=1)\n",
    "print(\"F1-score:\", f1)"
   ]
  }
 ],
 "metadata": {
  "kernelspec": {
   "display_name": "Python 3 (ipykernel)",
   "language": "python",
   "name": "python3"
  },
  "language_info": {
   "codemirror_mode": {
    "name": "ipython",
    "version": 3
   },
   "file_extension": ".py",
   "mimetype": "text/x-python",
   "name": "python",
   "nbconvert_exporter": "python",
   "pygments_lexer": "ipython3",
   "version": "3.11.3"
  }
 },
 "nbformat": 4,
 "nbformat_minor": 4
}

{
 "cells": [
  {
   "cell_type": "code",
   "execution_count": 1,
   "id": "f4246681",
   "metadata": {},
   "outputs": [],
   "source": [
    "import json\n",
    "import pandas as pd"
   ]
  },
  {
   "cell_type": "code",
   "execution_count": 3,
   "id": "7af00d56",
   "metadata": {},
   "outputs": [],
   "source": [
    "def check_call_json(filename):\n",
    "    with open(filename, encoding=\"utf-8\") as f:\n",
    "        data = json.load(f)\n",
    "\n",
    "    df = {\n",
    "        'name': [],\n",
    "        'content': [],\n",
    "        'num_words': []    \n",
    "    }\n",
    "\n",
    "    for call in data:\n",
    "        check = False\n",
    "        if call['content'] is not None:\n",
    "            for sentence in call['content']:\n",
    "                words = sentence['text'].split()\n",
    "                num_words = len(words)\n",
    "                if num_words > 35:\n",
    "                    check = True\n",
    "                    df['name'].append(call['name'])\n",
    "                    df['content'].append(sentence['text'])\n",
    "                    df['num_words'].append(num_words)\n",
    "\n",
    "    data_frame = pd.DataFrame(df)                \n",
    "    data_frame.to_excel('output.xlsx', index=False)"
   ]
  },
  {
   "cell_type": "code",
   "execution_count": null,
   "id": "0a1deb46",
   "metadata": {},
   "outputs": [],
   "source": []
  }
 ],
 "metadata": {
  "kernelspec": {
   "display_name": "Python 3 (ipykernel)",
   "language": "python",
   "name": "python3"
  },
  "language_info": {
   "codemirror_mode": {
    "name": "ipython",
    "version": 3
   },
   "file_extension": ".py",
   "mimetype": "text/x-python",
   "name": "python",
   "nbconvert_exporter": "python",
   "pygments_lexer": "ipython3",
   "version": "3.9.16"
  }
 },
 "nbformat": 4,
 "nbformat_minor": 5
}

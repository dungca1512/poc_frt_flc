{
 "cells": [
  {
   "cell_type": "code",
   "execution_count": 27,
   "metadata": {},
   "outputs": [],
   "source": [
    "import numpy as np\n",
    "import pandas as pd\n",
    "import seaborn as sns\n",
    "import matplotlib.pyplot as plt"
   ]
  },
  {
   "cell_type": "code",
   "execution_count": 28,
   "metadata": {},
   "outputs": [],
   "source": [
    "df = pd.read_csv('../csv/Batch 300 call đã gán nhãn_M3B.csv')"
   ]
  },
  {
   "cell_type": "code",
   "execution_count": 29,
   "metadata": {},
   "outputs": [
    {
     "data": {
      "text/html": [
       "<div>\n",
       "<style scoped>\n",
       "    .dataframe tbody tr th:only-of-type {\n",
       "        vertical-align: middle;\n",
       "    }\n",
       "\n",
       "    .dataframe tbody tr th {\n",
       "        vertical-align: top;\n",
       "    }\n",
       "\n",
       "    .dataframe thead th {\n",
       "        text-align: right;\n",
       "    }\n",
       "</style>\n",
       "<table border=\"1\" class=\"dataframe\">\n",
       "  <thead>\n",
       "    <tr style=\"text-align: right;\">\n",
       "      <th></th>\n",
       "      <th>file_name</th>\n",
       "      <th>criterion_name</th>\n",
       "      <th>audit_result</th>\n",
       "      <th>reason</th>\n",
       "      <th>group</th>\n",
       "    </tr>\n",
       "  </thead>\n",
       "  <tbody>\n",
       "    <tr>\n",
       "      <th>0</th>\n",
       "      <td>1686296155875_3755_810349533873_525039757.mp3</td>\n",
       "      <td>Amount</td>\n",
       "      <td>UN</td>\n",
       "      <td>NaN</td>\n",
       "      <td>Collection</td>\n",
       "    </tr>\n",
       "    <tr>\n",
       "      <th>1</th>\n",
       "      <td>1684482083958_3770_810983451276_516462765.mp3</td>\n",
       "      <td>Identification of client</td>\n",
       "      <td>Yes</td>\n",
       "      <td>NaN</td>\n",
       "      <td>Collection</td>\n",
       "    </tr>\n",
       "    <tr>\n",
       "      <th>2</th>\n",
       "      <td>1684482083958_3770_810983451276_516462765.mp3</td>\n",
       "      <td>Reason of the call</td>\n",
       "      <td>Yes</td>\n",
       "      <td>NaN</td>\n",
       "      <td>Collection</td>\n",
       "    </tr>\n",
       "    <tr>\n",
       "      <th>3</th>\n",
       "      <td>1684482083958_3770_810983451276_516462765.mp3</td>\n",
       "      <td>Will you pay?</td>\n",
       "      <td>Yes</td>\n",
       "      <td>NaN</td>\n",
       "      <td>Collection</td>\n",
       "    </tr>\n",
       "    <tr>\n",
       "      <th>4</th>\n",
       "      <td>1684482083958_3770_810983451276_516462765.mp3</td>\n",
       "      <td>When</td>\n",
       "      <td>NaN</td>\n",
       "      <td>KH cúp ngang</td>\n",
       "      <td>Collection</td>\n",
       "    </tr>\n",
       "    <tr>\n",
       "      <th>...</th>\n",
       "      <td>...</td>\n",
       "      <td>...</td>\n",
       "      <td>...</td>\n",
       "      <td>...</td>\n",
       "      <td>...</td>\n",
       "    </tr>\n",
       "    <tr>\n",
       "      <th>7495</th>\n",
       "      <td>1685065025516_3730_810919274306_517547091.mp3</td>\n",
       "      <td>Save result</td>\n",
       "      <td>Yes</td>\n",
       "      <td>Payment promise</td>\n",
       "      <td>Collection</td>\n",
       "    </tr>\n",
       "    <tr>\n",
       "      <th>7496</th>\n",
       "      <td>1685065025516_3730_810919274306_517547091.mp3</td>\n",
       "      <td>COC</td>\n",
       "      <td>Yes</td>\n",
       "      <td>NaN</td>\n",
       "      <td>Collection</td>\n",
       "    </tr>\n",
       "    <tr>\n",
       "      <th>7497</th>\n",
       "      <td>1685065025516_3730_810919274306_517547091.mp3</td>\n",
       "      <td>Call Result</td>\n",
       "      <td>Willpay</td>\n",
       "      <td>NaN</td>\n",
       "      <td>Collection</td>\n",
       "    </tr>\n",
       "    <tr>\n",
       "      <th>7498</th>\n",
       "      <td>1684543504539_3737_810974214208_516483766.mp3</td>\n",
       "      <td>Follow the structure of the call</td>\n",
       "      <td>Yes</td>\n",
       "      <td>NaN</td>\n",
       "      <td>NaN</td>\n",
       "    </tr>\n",
       "    <tr>\n",
       "      <th>7499</th>\n",
       "      <td>1685667518948_3764_850981318994_518719620.mp3</td>\n",
       "      <td>Greeting</td>\n",
       "      <td>Yes</td>\n",
       "      <td>asr không bắt được tên nhân viên</td>\n",
       "      <td>NaN</td>\n",
       "    </tr>\n",
       "  </tbody>\n",
       "</table>\n",
       "<p>7500 rows × 5 columns</p>\n",
       "</div>"
      ],
      "text/plain": [
       "                                          file_name   \n",
       "0     1686296155875_3755_810349533873_525039757.mp3  \\\n",
       "1     1684482083958_3770_810983451276_516462765.mp3   \n",
       "2     1684482083958_3770_810983451276_516462765.mp3   \n",
       "3     1684482083958_3770_810983451276_516462765.mp3   \n",
       "4     1684482083958_3770_810983451276_516462765.mp3   \n",
       "...                                             ...   \n",
       "7495  1685065025516_3730_810919274306_517547091.mp3   \n",
       "7496  1685065025516_3730_810919274306_517547091.mp3   \n",
       "7497  1685065025516_3730_810919274306_517547091.mp3   \n",
       "7498  1684543504539_3737_810974214208_516483766.mp3   \n",
       "7499  1685667518948_3764_850981318994_518719620.mp3   \n",
       "\n",
       "                        criterion_name audit_result   \n",
       "0                               Amount           UN  \\\n",
       "1             Identification of client          Yes   \n",
       "2                   Reason of the call          Yes   \n",
       "3                        Will you pay?          Yes   \n",
       "4                                 When          NaN   \n",
       "...                                ...          ...   \n",
       "7495                       Save result          Yes   \n",
       "7496                               COC          Yes   \n",
       "7497                       Call Result      Willpay   \n",
       "7498  Follow the structure of the call          Yes   \n",
       "7499                          Greeting          Yes   \n",
       "\n",
       "                                reason       group  \n",
       "0                                  NaN  Collection  \n",
       "1                                  NaN  Collection  \n",
       "2                                  NaN  Collection  \n",
       "3                                  NaN  Collection  \n",
       "4                         KH cúp ngang  Collection  \n",
       "...                                ...         ...  \n",
       "7495                   Payment promise  Collection  \n",
       "7496                               NaN  Collection  \n",
       "7497                               NaN  Collection  \n",
       "7498                               NaN         NaN  \n",
       "7499  asr không bắt được tên nhân viên         NaN  \n",
       "\n",
       "[7500 rows x 5 columns]"
      ]
     },
     "execution_count": 29,
     "metadata": {},
     "output_type": "execute_result"
    }
   ],
   "source": [
    "df"
   ]
  },
  {
   "cell_type": "code",
   "execution_count": 31,
   "metadata": {},
   "outputs": [
    {
     "data": {
      "text/html": [
       "<div>\n",
       "<style scoped>\n",
       "    .dataframe tbody tr th:only-of-type {\n",
       "        vertical-align: middle;\n",
       "    }\n",
       "\n",
       "    .dataframe tbody tr th {\n",
       "        vertical-align: top;\n",
       "    }\n",
       "\n",
       "    .dataframe thead th {\n",
       "        text-align: right;\n",
       "    }\n",
       "</style>\n",
       "<table border=\"1\" class=\"dataframe\">\n",
       "  <thead>\n",
       "    <tr style=\"text-align: right;\">\n",
       "      <th></th>\n",
       "      <th>file_name</th>\n",
       "      <th>criterion_name</th>\n",
       "      <th>audit_result</th>\n",
       "      <th>reason</th>\n",
       "      <th>group</th>\n",
       "    </tr>\n",
       "  </thead>\n",
       "  <tbody>\n",
       "    <tr>\n",
       "      <th>24</th>\n",
       "      <td>1684482083958_3770_810983451276_516462765.mp3</td>\n",
       "      <td>Call Result</td>\n",
       "      <td>Nopay</td>\n",
       "      <td>NaN</td>\n",
       "      <td>Collection</td>\n",
       "    </tr>\n",
       "    <tr>\n",
       "      <th>49</th>\n",
       "      <td>1684482109334_3771_810932104194_516462776.mp3</td>\n",
       "      <td>Call Result</td>\n",
       "      <td>Call không hợp tác</td>\n",
       "      <td>NaN</td>\n",
       "      <td>Collection</td>\n",
       "    </tr>\n",
       "    <tr>\n",
       "      <th>74</th>\n",
       "      <td>1684484668825_3776_810365496726_516470077.mp3</td>\n",
       "      <td>Call Result</td>\n",
       "      <td>Undefined</td>\n",
       "      <td>NaN</td>\n",
       "      <td>Collection</td>\n",
       "    </tr>\n",
       "    <tr>\n",
       "      <th>99</th>\n",
       "      <td>1684484804994_3753_810989015916_516470478.mp3</td>\n",
       "      <td>Call Result</td>\n",
       "      <td>Willpay</td>\n",
       "      <td>NaN</td>\n",
       "      <td>Collection</td>\n",
       "    </tr>\n",
       "    <tr>\n",
       "      <th>124</th>\n",
       "      <td>1684485272349_3648_810939424196_516471469.mp3</td>\n",
       "      <td>Call Result</td>\n",
       "      <td>Undefined</td>\n",
       "      <td>NaN</td>\n",
       "      <td>Collection</td>\n",
       "    </tr>\n",
       "    <tr>\n",
       "      <th>...</th>\n",
       "      <td>...</td>\n",
       "      <td>...</td>\n",
       "      <td>...</td>\n",
       "      <td>...</td>\n",
       "      <td>...</td>\n",
       "    </tr>\n",
       "    <tr>\n",
       "      <th>7397</th>\n",
       "      <td>1684997958420_3732_810968502918_517496149.mp3</td>\n",
       "      <td>Call Result</td>\n",
       "      <td>Nopay</td>\n",
       "      <td>NaN</td>\n",
       "      <td>Collection</td>\n",
       "    </tr>\n",
       "    <tr>\n",
       "      <th>7422</th>\n",
       "      <td>1684999898682_3739_810387660098_517502999.mp3</td>\n",
       "      <td>Call Result</td>\n",
       "      <td>Nopay</td>\n",
       "      <td>NaN</td>\n",
       "      <td>Collection</td>\n",
       "    </tr>\n",
       "    <tr>\n",
       "      <th>7447</th>\n",
       "      <td>1685003537288_3739_810886013317_517513797.mp3</td>\n",
       "      <td>Call Result</td>\n",
       "      <td>Willpay</td>\n",
       "      <td>NaN</td>\n",
       "      <td>Collection</td>\n",
       "    </tr>\n",
       "    <tr>\n",
       "      <th>7472</th>\n",
       "      <td>1685064372290_3743_810931516538_517542970.mp3</td>\n",
       "      <td>Call Result</td>\n",
       "      <td>Willpay</td>\n",
       "      <td>NaN</td>\n",
       "      <td>Collection</td>\n",
       "    </tr>\n",
       "    <tr>\n",
       "      <th>7497</th>\n",
       "      <td>1685065025516_3730_810919274306_517547091.mp3</td>\n",
       "      <td>Call Result</td>\n",
       "      <td>Willpay</td>\n",
       "      <td>NaN</td>\n",
       "      <td>Collection</td>\n",
       "    </tr>\n",
       "  </tbody>\n",
       "</table>\n",
       "<p>300 rows × 5 columns</p>\n",
       "</div>"
      ],
      "text/plain": [
       "                                          file_name criterion_name   \n",
       "24    1684482083958_3770_810983451276_516462765.mp3    Call Result  \\\n",
       "49    1684482109334_3771_810932104194_516462776.mp3    Call Result   \n",
       "74    1684484668825_3776_810365496726_516470077.mp3    Call Result   \n",
       "99    1684484804994_3753_810989015916_516470478.mp3    Call Result   \n",
       "124   1684485272349_3648_810939424196_516471469.mp3    Call Result   \n",
       "...                                             ...            ...   \n",
       "7397  1684997958420_3732_810968502918_517496149.mp3    Call Result   \n",
       "7422  1684999898682_3739_810387660098_517502999.mp3    Call Result   \n",
       "7447  1685003537288_3739_810886013317_517513797.mp3    Call Result   \n",
       "7472  1685064372290_3743_810931516538_517542970.mp3    Call Result   \n",
       "7497  1685065025516_3730_810919274306_517547091.mp3    Call Result   \n",
       "\n",
       "            audit_result reason       group  \n",
       "24                 Nopay    NaN  Collection  \n",
       "49    Call không hợp tác    NaN  Collection  \n",
       "74             Undefined    NaN  Collection  \n",
       "99               Willpay    NaN  Collection  \n",
       "124            Undefined    NaN  Collection  \n",
       "...                  ...    ...         ...  \n",
       "7397               Nopay    NaN  Collection  \n",
       "7422               Nopay    NaN  Collection  \n",
       "7447             Willpay    NaN  Collection  \n",
       "7472             Willpay    NaN  Collection  \n",
       "7497             Willpay    NaN  Collection  \n",
       "\n",
       "[300 rows x 5 columns]"
      ]
     },
     "execution_count": 31,
     "metadata": {},
     "output_type": "execute_result"
    }
   ],
   "source": [
    "df_call_result = df[df['criterion_name'] == \"Call Result\"]\n",
    "df_call_result"
   ]
  },
  {
   "cell_type": "code",
   "execution_count": 36,
   "metadata": {},
   "outputs": [
    {
     "data": {
      "text/plain": [
       "164"
      ]
     },
     "execution_count": 36,
     "metadata": {},
     "output_type": "execute_result"
    }
   ],
   "source": [
    "df_call_result_willpay = df_call_result[df_call_result['audit_result'] == 'Willpay']\n",
    "df_call_result_willpay.shape[0]"
   ]
  },
  {
   "cell_type": "code",
   "execution_count": 39,
   "metadata": {},
   "outputs": [
    {
     "data": {
      "text/plain": [
       "57"
      ]
     },
     "execution_count": 39,
     "metadata": {},
     "output_type": "execute_result"
    }
   ],
   "source": [
    "df_call_result_nopay = df_call_result[df_call_result['audit_result'] == 'Nopay']\n",
    "df_call_result_nopay.shape[0]"
   ]
  },
  {
   "cell_type": "code",
   "execution_count": 40,
   "metadata": {},
   "outputs": [
    {
     "data": {
      "text/plain": [
       "0"
      ]
     },
     "execution_count": 40,
     "metadata": {},
     "output_type": "execute_result"
    }
   ],
   "source": [
    "df_call_result_paid = df_call_result[df_call_result['audit_result'] == 'Paid']\n",
    "df_call_result_paid.shape[0]"
   ]
  },
  {
   "cell_type": "code",
   "execution_count": 41,
   "metadata": {},
   "outputs": [
    {
     "name": "stdout",
     "output_type": "stream",
     "text": [
      "Willpay: 164, Nopay: 57, Paid: 0\n"
     ]
    }
   ],
   "source": [
    "print(f\"Willpay: {df_call_result_willpay.shape[0]}, Nopay: {df_call_result_nopay.shape[0]}, Paid: {df_call_result_paid.shape[0]}\")"
   ]
  }
 ],
 "metadata": {
  "kernelspec": {
   "display_name": "Python 3",
   "language": "python",
   "name": "python3"
  },
  "language_info": {
   "codemirror_mode": {
    "name": "ipython",
    "version": 3
   },
   "file_extension": ".py",
   "mimetype": "text/x-python",
   "name": "python",
   "nbconvert_exporter": "python",
   "pygments_lexer": "ipython3",
   "version": "3.11.3"
  },
  "orig_nbformat": 4
 },
 "nbformat": 4,
 "nbformat_minor": 2
}

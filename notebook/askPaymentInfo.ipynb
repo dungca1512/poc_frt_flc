{
 "cells": [
  {
   "cell_type": "code",
   "execution_count": 1,
   "id": "b9776dc1-90d6-464d-9629-aba359ec8944",
   "metadata": {},
   "outputs": [],
   "source": [
    "import json"
   ]
  },
  {
   "cell_type": "code",
   "execution_count": 2,
   "id": "63850d56-77b3-4a97-bb82-42bd2ccf0df3",
   "metadata": {},
   "outputs": [],
   "source": [
    "with open(\"../json/response/nlp_response_m3.json\", \"r\", encoding='utf-8') as f:\n",
    "    file = json.load(f)"
   ]
  },
  {
   "cell_type": "code",
   "execution_count": 3,
   "id": "458f035f-42e6-4f92-800e-c422e00bf300",
   "metadata": {},
   "outputs": [],
   "source": [
    "call_name = input()\n",
    "call_result = None"
   ]
  },
  {
   "cell_type": "code",
   "execution_count": 4,
   "id": "0818cbef-b13d-470f-be98-b897509f9352",
   "metadata": {},
   "outputs": [],
   "source": [
    "for call in file:\n",
    "    try:\n",
    "        if call['fileName'] == call_name:\n",
    "            call_result = call\n",
    "    except:\n",
    "        pass\n",
    "\n",
    "call_data = call_result['data']\n",
    "result = {}\n",
    "for data in call_data:\n",
    "    sum = data['askPaymentInfo']\n",
    "    text = sum['text']\n",
    "    intents = sum['intents']\n",
    "    entities = sum['entities']\n",
    "    if text != \"\":\n",
    "        result[text] ={'intent': intents, 'entities': entities}"
   ]
  },
  {
   "cell_type": "code",
   "execution_count": 5,
   "id": "023ffa6a-1c43-4bce-90a8-c9a1ff917b43",
   "metadata": {},
   "outputs": [],
   "source": [
    "with open('../json/response/response_criteria/nlp_response_askPaymentInfo.json', 'w', encoding='utf-8') as fp:\n",
    "    json.dump(result, fp, ensure_ascii=False, indent=4)"
   ]
  }
 ],
 "metadata": {
  "kernelspec": {
   "display_name": "Python 3 (ipykernel)",
   "language": "python",
   "name": "python3"
  },
  "language_info": {
   "codemirror_mode": {
    "name": "ipython",
    "version": 3
   },
   "file_extension": ".py",
   "mimetype": "text/x-python",
   "name": "python",
   "nbconvert_exporter": "python",
   "pygments_lexer": "ipython3",
   "version": "3.11.3"
  }
 },
 "nbformat": 4,
 "nbformat_minor": 5
}
